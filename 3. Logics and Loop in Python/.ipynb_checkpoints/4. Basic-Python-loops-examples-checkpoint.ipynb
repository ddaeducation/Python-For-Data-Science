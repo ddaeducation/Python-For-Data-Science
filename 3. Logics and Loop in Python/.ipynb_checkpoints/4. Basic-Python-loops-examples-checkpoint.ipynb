{
 "cells": [
  {
   "cell_type": "markdown",
   "id": "c0358a47-b38c-4158-9fad-08e0823e940d",
   "metadata": {},
   "source": [
    "<center>\n",
    "<img src=\"https://github.com/ddaeducation/Images/raw/main/lgo.png\" alt=\"Global Nexus Institute of Technology\" width=\"150\">\n",
    "</center><hr style=\"height: 5px; background-color: red; border: none;\">"
   ]
  },
  {
   "cell_type": "markdown",
   "id": "f662d169",
   "metadata": {
    "id": "f662d169"
   },
   "source": [
    "# Examples: Basic Python loops"
   ]
  },
  {
   "cell_type": "markdown",
   "id": "26af890c",
   "metadata": {
    "id": "26af890c"
   },
   "source": [
    "This notebook will guide us through how loops work in Python. In this lesson, we're going to cover the basics of `for` and `while` loops.\n"
   ]
  },
  {
   "cell_type": "markdown",
   "id": "2d230d14",
   "metadata": {
    "id": "2d230d14",
    "tags": []
   },
   "source": [
    "## Learning objectives\n",
    "\n",
    "In this train, we will learn:\n",
    "\n",
    "- **The importance of loops:** Grasp why loops are essential in programming for automating repetitive tasks and handling large datasets.\n",
    "\n",
    "- **To differentiate between for and while loops:** Identify the scenarios in which each type of loop is most effective and understand their unique characteristics."
   ]
  },
  {
   "cell_type": "markdown",
   "id": "44944a4e",
   "metadata": {
    "id": "44944a4e"
   },
   "source": [
    "## The practical need for loops\n",
    "Loops are a fundamental concept in programming, serving a crucial role in automating repetitive tasks and efficiently handling large datasets. Imagine we have a task, like checking whether an animal in our dataset is on an endangered species list."
   ]
  },
  {
   "cell_type": "markdown",
   "id": "1e674968",
   "metadata": {
    "id": "1e674968"
   },
   "source": [
    "Here we have a list of `animals` and we want to print them out one by one. We could use list indexing and print them out, one by one:"
   ]
  },
  {
   "cell_type": "code",
   "execution_count": null,
   "id": "b4092a88",
   "metadata": {
    "id": "b4092a88"
   },
   "outputs": [],
   "source": [
    "# List of animals (both endangered and not)\n",
    "animals = ['Great White Shark', 'Blue Whale', 'African Elephant',  'Bald Eagle', 'Orangutan', 'Tiger', 'Panda', 'Koala']\n",
    "\n",
    "print(animals[0])\n",
    "print(animals[1])\n",
    "print(animals[2])\n",
    "print(animals[3])\n",
    "# etc."
   ]
  },
  {
   "cell_type": "markdown",
   "id": "95fe662a",
   "metadata": {
    "id": "95fe662a"
   },
   "source": [
    "But imagine our list contains 100 animals. We would have to write a print statement for each of them. This is a very repetitive task, and we are likely to make a mistake somewhere.\n",
    "\n",
    "But loops were designed to solve this problem.\n",
    "\n",
    "Python offers two primary types of loops: `for` loops and `while` loops.\n",
    "Each serves different purposes:"
   ]
  },
  {
   "cell_type": "markdown",
   "id": "fa8e720a",
   "metadata": {
    "id": "fa8e720a"
   },
   "source": [
    "* **`for` loops:** Ideal for going through a sequence (like a list, tuple, or string), one by one. We use `for` loops when we know how many things there are in a list.\n",
    "\n",
    "    \n",
    "    For example, for each element `i` in `list_of_numbers`, print out the value of `i`:"
   ]
  },
  {
   "cell_type": "code",
   "execution_count": null,
   "id": "bce5cebd",
   "metadata": {
    "id": "bce5cebd"
   },
   "outputs": [],
   "source": [
    "list_of_numbers =[0,1,2,3,4,5]\n",
    "for i in list_of_numbers:\n",
    "    # Loop body\n",
    "    print(i)"
   ]
  },
  {
   "cell_type": "markdown",
   "id": "b62e376f",
   "metadata": {
    "id": "b62e376f"
   },
   "source": [
    "* **`while` loops:** While loops continue to execute a set of instructions as long as a certain condition is met.\n",
    "    \n",
    "    For example, while `i` is smaller than `5`, print out the value of `i` and add 1 to it."
   ]
  },
  {
   "cell_type": "code",
   "execution_count": null,
   "id": "9ebd964b",
   "metadata": {
    "id": "9ebd964b"
   },
   "outputs": [],
   "source": [
    "i = 0\n",
    "\n",
    "while i < 5:\n",
    "    print(i)\n",
    "    i += 1"
   ]
  },
  {
   "cell_type": "markdown",
   "id": "475273e5",
   "metadata": {
    "id": "475273e5"
   },
   "source": [
    "When we talk about loops, there is an important term to know:\n",
    "* *Iterate*: To \"iterate\" in programming means to repeatedly execute a set of instructions. We can *iterate* through a list, or say in the last *iteration* of the while loop, i is assigned a value of 5."
   ]
  },
  {
   "cell_type": "markdown",
   "id": "0ea9be03",
   "metadata": {
    "id": "0ea9be03"
   },
   "source": [
    "\n",
    "## For loops\n",
    "### Syntax and structure"
   ]
  },
  {
   "cell_type": "markdown",
   "id": "3f3ea295",
   "metadata": {
    "id": "3f3ea295"
   },
   "source": [
    "The syntax of a for loop in Python is straightforward. It includes the `for` keyword, an `item` variable, the `in` operator, and a `collection` object, where `collection` refers to an object we **can** iterate through, like a list, dictionary, or tuple. The instructions we want to run in each loop are in the loop body."
   ]
  },
  {
   "cell_type": "code",
   "execution_count": null,
   "id": "f4e380a4",
   "metadata": {
    "id": "f4e380a4"
   },
   "outputs": [],
   "source": [
    "for item in collection:\n",
    "    # Loop body"
   ]
  },
  {
   "cell_type": "markdown",
   "id": "d8eefc54",
   "metadata": {
    "id": "d8eefc54"
   },
   "source": [
    "For example:"
   ]
  },
  {
   "cell_type": "markdown",
   "id": "7a4263ba",
   "metadata": {
    "id": "7a4263ba"
   },
   "source": [
    "Here the loop accesses each value in the list, one by one. We can iterate through our list of animals too, one by one:"
   ]
  },
  {
   "cell_type": "code",
   "execution_count": null,
   "id": "497ece26",
   "metadata": {
    "id": "497ece26"
   },
   "outputs": [],
   "source": [
    "for animal in animals:\n",
    "    print(animal)"
   ]
  },
  {
   "cell_type": "markdown",
   "id": "3b4f14dc",
   "metadata": {
    "id": "3b4f14dc"
   },
   "source": [
    "We can add as many instructions as we like in the body of the loop. Once a loop is complete, it executes the next line of code after the loop."
   ]
  },
  {
   "cell_type": "code",
   "execution_count": null,
   "id": "ca284495",
   "metadata": {
    "id": "ca284495"
   },
   "outputs": [],
   "source": [
    "animals_we_have_seen = [] #This is an empty list of animals we have encountered\n",
    "\n",
    "for animal in animals:\n",
    "    print(animal)\n",
    "    animals_we_have_seen.append(animal) #add the animal to the \"seen\" list.\n",
    "\n",
    "print(f\" We saw these animals:\\n {animals_we_have_seen}\")"
   ]
  },
  {
   "cell_type": "markdown",
   "id": "59162bff",
   "metadata": {
    "id": "59162bff"
   },
   "source": [
    "We can loop through any iterable data structure like tuples, sets, dictionaries, and even strings:"
   ]
  },
  {
   "cell_type": "code",
   "execution_count": null,
   "id": "b3b20316",
   "metadata": {
    "id": "b3b20316"
   },
   "outputs": [],
   "source": [
    "animals_tuple = ('Great White Shark', 'Blue Whale', 'African Elephant',  'Bald Eagle', 'Orangutan', 'Tiger', 'Tiger', 'Panda', 'Koala')\n",
    "animals_set= set(animals_tuple)\n",
    "animal_string = \"Great White Shark\""
   ]
  },
  {
   "cell_type": "code",
   "execution_count": null,
   "id": "22106d60",
   "metadata": {
    "id": "22106d60"
   },
   "outputs": [],
   "source": [
    "print(\"Tuple:\")\n",
    "for animal in animals_tuple:\n",
    "    print(animal)"
   ]
  },
  {
   "cell_type": "code",
   "execution_count": null,
   "id": "93dd5f17",
   "metadata": {
    "id": "93dd5f17"
   },
   "outputs": [],
   "source": [
    "print(\"Set:\")\n",
    "for animal in animals_set:\n",
    "    print(animal)\n"
   ]
  },
  {
   "cell_type": "code",
   "execution_count": null,
   "id": "afff0ba4",
   "metadata": {
    "id": "afff0ba4"
   },
   "outputs": [],
   "source": [
    "\n",
    "print(\"String:\")\n",
    "for letter in animal_string:\n",
    "    print(letter)"
   ]
  },
  {
   "cell_type": "markdown",
   "id": "94b8d21a",
   "metadata": {
    "id": "94b8d21a"
   },
   "source": [
    "## While loops"
   ]
  },
  {
   "cell_type": "markdown",
   "id": "2be0a608",
   "metadata": {
    "id": "2be0a608"
   },
   "source": [
    "A `while` loop in Python repeatedly executes its body **as long as a condition is true**. Its syntax is:"
   ]
  },
  {
   "cell_type": "code",
   "execution_count": null,
   "id": "860cdb21",
   "metadata": {
    "id": "860cdb21"
   },
   "outputs": [],
   "source": [
    "while condition:\n",
    "    # Loop body"
   ]
  },
  {
   "cell_type": "markdown",
   "id": "43726ba4",
   "metadata": {
    "id": "43726ba4"
   },
   "source": [
    "`while` loops are ideal for scenarios where you don't know how many times you need to iterate. For example, adding 10% to a value, until it is > 5. It is hard to know before we start how many times we have to repeat the calculation, so if we use a `while` loop, we can keep going until we get to the answer."
   ]
  },
  {
   "cell_type": "code",
   "execution_count": null,
   "id": "dfb4702e",
   "metadata": {
    "id": "dfb4702e"
   },
   "outputs": [],
   "source": [
    "population = 1 #We start at 0\n",
    "\n",
    "while population < 3:\n",
    "    print(population) # We print out the value of population\n",
    "    population *= 1.1 # And add 10% to it."
   ]
  },
  {
   "cell_type": "markdown",
   "id": "ac2a5b3d",
   "metadata": {
    "id": "ac2a5b3d"
   },
   "source": [
    "This loop prints the population with 10% added to each iteration, until the population is 2.85, and the loop stops because the next number is larger than 3."
   ]
  },
  {
   "cell_type": "markdown",
   "id": "b925f07e",
   "metadata": {
    "id": "b925f07e"
   },
   "source": [
    "Be cautious with `while` loops, because they result in infinite loops if the condition never becomes false. Always ensure there's a way for the condition to become false eventually.\n",
    "\n",
    "If your loop is infinitely looping, press the `i` key twice rapidly, or click on the stop/interrupt button to interrupt the kernel. The cell below contains an example of an infinite loop. It will go into an infinite loop when running it, so beware!"
   ]
  },
  {
   "cell_type": "code",
   "execution_count": null,
   "id": "6e1eee50",
   "metadata": {
    "id": "6e1eee50"
   },
   "outputs": [],
   "source": [
    "count = 0\n",
    "while count >= 0:  # This condition is always true\n",
    "    print(\"This will go on forever!\")"
   ]
  },
  {
   "cell_type": "markdown",
   "id": "4258be2a",
   "metadata": {
    "id": "4258be2a"
   },
   "source": [
    "## Loop controls\n",
    "Loop control statements are used to change the execution flow of loops. They provide flexibility and control over how loops behave in different scenarios. The primary loop control statements in Python are `break`, `continue`, and `pass`."
   ]
  },
  {
   "cell_type": "markdown",
   "id": "47e5bc79",
   "metadata": {
    "id": "47e5bc79"
   },
   "source": [
    "### `break` statement\n",
    "`break` immediately stops the execution of a loop, and the control flows to the statement immediately after the loop.\n",
    "\n",
    "`break` is often used when searching for an item in a list. Once the item is found, there's no need to continue the loop."
   ]
  },
  {
   "cell_type": "code",
   "execution_count": null,
   "id": "98119661",
   "metadata": {
    "id": "98119661"
   },
   "outputs": [],
   "source": [
    "# Searching for a specific number in a list\n",
    "animals = ['Great White Shark', 'Blue Whale', 'African Elephant',  'Bald Eagle', 'Orangutan', 'Tiger', 'Panda', 'Koala']\n",
    "\n",
    "for animal in animals:\n",
    "    print(animal)\n",
    "    if animal == 'African Elephant':\n",
    "        print(\"African Elephant found\")\n",
    "        break #Once African Elephant is found, the loop stops, so 'Bald Eagle', 'Orangutan', 'Tiger', 'Panda', 'Koala' are not printed.\n",
    "\n",
    "print(f\"The last animal checked = {animal}\")"
   ]
  },
  {
   "cell_type": "markdown",
   "id": "97d8d65b",
   "metadata": {
    "id": "97d8d65b"
   },
   "source": [
    "The loop stopped once we reached the `African Elephant` animal, so printing out `print(f\"The last animal checked = {animal}\")` after the loop has completed, results in `African Elephant`, showing that the loop stopped there."
   ]
  },
  {
   "cell_type": "markdown",
   "id": "567039e2",
   "metadata": {
    "id": "567039e2"
   },
   "source": [
    "### `continue` statement\n",
    "`continue` skips the rest of the loop's **body** for the current iteration and moves to the next iteration.\n",
    "\n",
    "This is useful when we need to skip certain elements in a loop, like filtering out specific values."
   ]
  },
  {
   "cell_type": "code",
   "execution_count": null,
   "id": "36da9e80",
   "metadata": {
    "id": "36da9e80"
   },
   "outputs": [],
   "source": [
    "for animal in animals:\n",
    "\n",
    "    if animal == 'African Elephant':\n",
    "        continue #Once African Elephant is found, the code in the rest of the loop is not executed, so African Elephant found is not printed.\n",
    "    print(animal)"
   ]
  },
  {
   "cell_type": "markdown",
   "id": "d916dd3d",
   "metadata": {
    "id": "d916dd3d"
   },
   "source": [
    "### `pass` statement\n",
    "`pass` is a statement that does nothing. It's used as a placeholder.\n",
    "\n",
    "`pass` is used when we need a statement to have the correct syntax but want to implement no action, like in empty definitions, loops, or conditionals. `pass` is very useful as a placeholder for the code we are going to add later."
   ]
  },
  {
   "cell_type": "markdown",
   "id": "2e15454a",
   "metadata": {
    "id": "2e15454a"
   },
   "source": [
    "Suppose we want to check all animals, but skip `African Elephants`:"
   ]
  },
  {
   "cell_type": "code",
   "execution_count": null,
   "id": "ae3162ae",
   "metadata": {
    "id": "ae3162ae"
   },
   "outputs": [],
   "source": [
    "#This code will produce an error because it is expecting code in the if-statement.\n",
    "for animal in animals:\n",
    "    if animal == 'African Elephant':\n",
    "        #Do Nothing\n",
    "    else:\n",
    "        print (f\"{animal} is not an African Elephant\")\n"
   ]
  },
  {
   "cell_type": "code",
   "execution_count": null,
   "id": "a6f7150c",
   "metadata": {
    "id": "a6f7150c"
   },
   "outputs": [],
   "source": [
    "# By adding pass, the code still runs\n",
    "for animal in animals:\n",
    "    if animal == 'African Elephant':\n",
    "        pass #Skip elephants\n",
    "    else:\n",
    "        print (f\"{animal} is not an African Elephant\")\n"
   ]
  },
  {
   "cell_type": "markdown",
   "id": "2425132c",
   "metadata": {
    "id": "2425132c"
   },
   "source": [
    "Be careful of using `pass` because it often tells us our logic can be improved. Instead of specifying that we do nothing when the animal is an African Elephant with `pass`, we can change the conditional flow logic:"
   ]
  },
  {
   "cell_type": "code",
   "execution_count": null,
   "id": "9341969b",
   "metadata": {
    "id": "9341969b"
   },
   "outputs": [],
   "source": [
    "# By improving our logic, we avoid the use of pass.\n",
    "for animal in animals:\n",
    "    if animal != 'African Elephant': #If the animal is not an elephant, then...\n",
    "        print (f\"{animal} is not an African Elephant\")"
   ]
  },
  {
   "cell_type": "markdown",
   "id": "83428e79",
   "metadata": {
    "id": "83428e79"
   },
   "source": [
    "If we have to use `pass` in our code, it is an indication we can improve our logic somewhere."
   ]
  },
  {
   "cell_type": "markdown",
   "id": "e9956efe",
   "metadata": {
    "id": "e9956efe",
    "tags": []
   },
   "source": [
    "## Summary\n",
    "In this notebook, we've explored the fundamental concepts of loops in Python, including their syntax, different types, and practical applications. We've learned that **loops are essential** for automating **repetitive** tasks and efficiently processing collections of data. By understanding the nuances of `for` and `while` loops, as well as loop control statements like `break`, `continue`, and `pass`, we can write more effective and efficient Python code.\n"
   ]
  }
 ],
 "metadata": {
  "colab": {
   "provenance": []
  },
  "kernelspec": {
   "display_name": "Python 3 (ipykernel)",
   "language": "python",
   "name": "python3"
  },
  "language_info": {
   "codemirror_mode": {
    "name": "ipython",
    "version": 3
   },
   "file_extension": ".py",
   "mimetype": "text/x-python",
   "name": "python",
   "nbconvert_exporter": "python",
   "pygments_lexer": "ipython3",
   "version": "3.10.12"
  },
  "widgets": {
   "application/vnd.jupyter.widget-state+json": {
    "state": {},
    "version_major": 2,
    "version_minor": 0
   }
  }
 },
 "nbformat": 4,
 "nbformat_minor": 5
}
