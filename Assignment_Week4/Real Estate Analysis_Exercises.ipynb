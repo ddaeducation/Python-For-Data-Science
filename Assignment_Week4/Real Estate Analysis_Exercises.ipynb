{
 "cells": [
  {
   "cell_type": "markdown",
   "id": "2f489e6d",
   "metadata": {},
   "source": [
    "<font size=\"+1\"><strong>1.5. Housing in Brazil 🇧🇷</strong></font>"
   ]
  },
  {
   "cell_type": "markdown",
   "id": "ed569e11",
   "metadata": {},
   "source": [
    "In this assignment, you'll work with a dataset of homes for sale in Brazil. Your goal is to determine if there are regional differences in the real estate market. Also, you will look at southern Brazil to see if there is a relationship between home size and price, similar to what you saw with housing in some states in Mexico. "
   ]
  },
  {
   "cell_type": "markdown",
   "id": "fa5fb532",
   "metadata": {},
   "source": [
    "**Before you start:** Import the libraries you'll use in this notebook: Matplotlib, pandas, and plotly. Be sure to import them under the aliases we've used in this project."
   ]
  },
  {
   "cell_type": "code",
   "execution_count": 2,
   "id": "25f32bce",
   "metadata": {},
   "outputs": [],
   "source": [
    "# Import Matplotlib, pandas, and plotly"
   ]
  },
  {
   "cell_type": "markdown",
   "id": "36604a0c",
   "metadata": {},
   "source": [
    "### Prepare Data"
   ]
  },
  {
   "cell_type": "markdown",
   "id": "f8ed9a61",
   "metadata": {},
   "source": [
    "In this assignment, you'll work with real estate data from Brazil.  In the `data` directory for this project there are two CSV that you need to import and clean, one-by-one."
   ]
  },
  {
   "cell_type": "markdown",
   "id": "aef8972e",
   "metadata": {},
   "source": [
    "### Import"
   ]
  },
  {
   "cell_type": "markdown",
   "id": "55cc3551",
   "metadata": {},
   "source": [
    "First, you are going to import and clean the data in `data/brasil-real-estate-1.csv`. "
   ]
  },
  {
   "cell_type": "markdown",
   "id": "69e5c7c7",
   "metadata": {},
   "source": [
    "**Task 1.5.1:** Import the CSV file `data/brasil-real-estate-1.csv` into the DataFrame `df1`."
   ]
  },
  {
   "cell_type": "code",
   "execution_count": 4,
   "id": "9a48d575",
   "metadata": {},
   "outputs": [],
   "source": [
    "df1 = ...\n",
    "df1.head()"
   ]
  },
  {
   "cell_type": "markdown",
   "id": "dd5846cb",
   "metadata": {},
   "source": [
    "Before you move to the next task, take a moment to inspect `df1` using the `info` and `head` methods. What issues do you see in the data? What cleaning will you need to do before you can conduct your analysis?"
   ]
  },
  {
   "cell_type": "code",
   "execution_count": null,
   "id": "9f9bf718",
   "metadata": {},
   "outputs": [],
   "source": []
  },
  {
   "cell_type": "markdown",
   "id": "afe80292",
   "metadata": {},
   "source": [
    "**Task 1.5.2:** Drop all rows with `NaN` values from the DataFrame `df1`."
   ]
  },
  {
   "cell_type": "code",
   "execution_count": null,
   "id": "2ecee93c",
   "metadata": {},
   "outputs": [],
   "source": []
  },
  {
   "cell_type": "markdown",
   "id": "061792a2",
   "metadata": {},
   "source": [
    "**Task 1.5.3:** Use the `\"lat-lon\"` column to create two separate columns in `df1`: `\"lat\"` and `\"lon\"`. Make sure that the data type for these new columns is `float`."
   ]
  },
  {
   "cell_type": "code",
   "execution_count": null,
   "id": "9e1c8586",
   "metadata": {},
   "outputs": [],
   "source": []
  },
  {
   "cell_type": "markdown",
   "id": "c5c25b84",
   "metadata": {},
   "source": [
    "**Task 1.5.4:** Use the `\"place_with_parent_names\"` column to create a `\"state\"` column for `df1`. (Note that the state name always appears after `\"|Brasil|\"` in each string.)"
   ]
  },
  {
   "cell_type": "code",
   "execution_count": null,
   "id": "1f34e4dc",
   "metadata": {},
   "outputs": [],
   "source": []
  },
  {
   "cell_type": "markdown",
   "id": "61298dd1",
   "metadata": {},
   "source": [
    "**Task 1.5.5:** Transform the `\"price_usd\"` column of `df1` so that all values are floating-point numbers instead of strings. "
   ]
  },
  {
   "cell_type": "code",
   "execution_count": null,
   "id": "159addbc",
   "metadata": {},
   "outputs": [],
   "source": []
  },
  {
   "cell_type": "markdown",
   "id": "3f07028d",
   "metadata": {},
   "source": [
    "**Task 1.5.6:** Drop the `\"lat-lon\"` and `\"place_with_parent_names\"` columns from `df1`."
   ]
  },
  {
   "cell_type": "code",
   "execution_count": null,
   "id": "9d6e798d",
   "metadata": {},
   "outputs": [],
   "source": []
  },
  {
   "cell_type": "markdown",
   "id": "b7f31eb3",
   "metadata": {},
   "source": [
    "Now that you have cleaned `data/brasil-real-estate-1.csv` and created `df1`, you are going to import and clean the data from the second file, `brasil-real-estate-2.csv`. "
   ]
  },
  {
   "cell_type": "markdown",
   "id": "84969693",
   "metadata": {},
   "source": [
    "**Task 1.5.7:** Import the CSV file `brasil-real-estate-2.csv` into the DataFrame `df2`."
   ]
  },
  {
   "cell_type": "code",
   "execution_count": null,
   "id": "91fc0c74",
   "metadata": {},
   "outputs": [],
   "source": [
    "df2 = ..."
   ]
  },
  {
   "cell_type": "markdown",
   "id": "a4107853",
   "metadata": {},
   "source": [
    "Before you jump to the next task, take a look at `df2` using the `info` and `head` methods. What issues do you see in the data? How is it similar or different from `df1`?"
   ]
  },
  {
   "cell_type": "code",
   "execution_count": null,
   "id": "05d66fca",
   "metadata": {},
   "outputs": [],
   "source": []
  },
  {
   "cell_type": "markdown",
   "id": "837b138c",
   "metadata": {},
   "source": [
    "**Task 1.5.8:** Use the `\"price_brl\"` column to create a new column named `\"price_usd\"`. (Keep in mind that, when this data was collected in 2015 and 2016, a US dollar cost 3.19 Brazilian reals.)"
   ]
  },
  {
   "cell_type": "code",
   "execution_count": null,
   "id": "3c95c9ec",
   "metadata": {},
   "outputs": [],
   "source": []
  },
  {
   "cell_type": "markdown",
   "id": "7dc29489",
   "metadata": {},
   "source": [
    "**Task 1.5.9:** Drop the `\"price_brl\"` column from `df2`, as well as any rows that have `NaN` values. "
   ]
  },
  {
   "cell_type": "code",
   "execution_count": null,
   "id": "5284235a",
   "metadata": {},
   "outputs": [],
   "source": []
  },
  {
   "cell_type": "markdown",
   "id": "ebfaac1d",
   "metadata": {},
   "source": [
    "OK! Now that you've cleaned the data from both CSV files and created `df1` and `df2`, it's time to combine them into a single DataFrame."
   ]
  },
  {
   "cell_type": "markdown",
   "id": "0969c334",
   "metadata": {},
   "source": [
    "**Task 1.5.10:** Concatenate `df1` and `df2` to create a new DataFrame named `df`. "
   ]
  },
  {
   "cell_type": "code",
   "execution_count": null,
   "id": "46da28fe",
   "metadata": {},
   "outputs": [],
   "source": [
    "df = ...\n",
    "print(\"df shape:\", df.shape)"
   ]
  },
  {
   "cell_type": "markdown",
   "id": "0b5ef429",
   "metadata": {},
   "source": [
    "<div class=\"alert alert-block alert-info\">\n",
    "    <p><b>Frequent Question:</b> I can't pass this question, and I don't know what I've done wrong. 😠 What's happening?</p>\n",
    "    <p><b>Tip:</b> In this assignment, you're working with data that's similar — but not identical — the data used in the lessons. That means that you might need to make adjust the code you used in the training to work here. Take a second look at <code>df1</code> after you complete 1.5.6, and make sure you've correctly created the state names.</p>\n",
    "</div>"
   ]
  },
  {
   "cell_type": "markdown",
   "id": "b4026585",
   "metadata": {},
   "source": [
    "### Explore"
   ]
  },
  {
   "cell_type": "markdown",
   "id": "2865aa1a",
   "metadata": {},
   "source": [
    "It's time to start exploring your data. In this section, you'll use your new data visualization skills to learn more about the regional differences in the Brazilian real estate market.\n",
    "\n",
    "Complete the code below to create a `scatter_mapbox` showing the location of the properties in `df`.<span style='color: transparent; font-size:1%'>WQU WorldQuant University Applied Data Science Lab QQQQ</span>"
   ]
  },
  {
   "cell_type": "code",
   "execution_count": null,
   "id": "2ef454a4",
   "metadata": {},
   "outputs": [],
   "source": [
    "fig = px.scatter_mapbox(\n",
    "    ...,\n",
    "    lat=...,\n",
    "    lon=...,\n",
    "    center={\"lat\": -14.2, \"lon\": -51.9},  # Map will be centered on Brazil\n",
    "    width=600,\n",
    "    height=600,\n",
    "    hover_data=[\"price_usd\"],  # Display price when hovering mouse over house\n",
    ")\n",
    "\n",
    "fig.update_layout(mapbox_style=\"open-street-map\")\n",
    "\n",
    "fig.show()"
   ]
  },
  {
   "cell_type": "markdown",
   "id": "b66cf5dc",
   "metadata": {},
   "source": [
    "**Task 1.5.11:** Use the `describe` method to create a DataFrame `summary_stats` with the summary statistics for the `\"area_m2\"` and `\"price_usd\"` columns."
   ]
  },
  {
   "cell_type": "code",
   "execution_count": null,
   "id": "825d838f",
   "metadata": {},
   "outputs": [],
   "source": [
    "summary_stats = ...\n",
    "summary_stats"
   ]
  },
  {
   "cell_type": "markdown",
   "id": "bc7ec859",
   "metadata": {},
   "source": [
    "**Task 1.5.12:** Create a histogram of `\"price_usd\"`. Make sure that the x-axis has the label `\"Price [USD]\"`, the y-axis has the label `\"Frequency\"`, and the plot has the title `\"Distribution of Home Prices\"`. Use Matplotlib (`plt`)."
   ]
  },
  {
   "cell_type": "code",
   "execution_count": 10,
   "id": "d4743ce7",
   "metadata": {},
   "outputs": [],
   "source": [
    "# Build histogram\n",
    "plt.hist()\n",
    "\n",
    "\n",
    "# Label axes\n",
    "\n",
    "\n",
    "# Add title\n",
    "\n",
    "\n",
    "# Don't change the code below 👇\n",
    "plt.savefig(\"images/1-5-12.png\", dpi=150)"
   ]
  },
  {
   "cell_type": "markdown",
   "id": "f8c590c4",
   "metadata": {},
   "source": [
    "**Task 1.5.13:** Create a horizontal boxplot of `\"area_m2\"`. Make sure that the x-axis has the label `\"Area [sq meters]\"` and the plot has the title `\"Distribution of Home Sizes\"`. Use Matplotlib (`plt`)."
   ]
  },
  {
   "cell_type": "code",
   "execution_count": null,
   "id": "68333020",
   "metadata": {},
   "outputs": [],
   "source": [
    "# Build box plot\n",
    "plt.boxplot()\n",
    "\n",
    "\n",
    "# Label x-axis\n",
    "\n",
    "\n",
    "# Add title\n",
    "\n",
    "\n",
    "# Don't change the code below 👇\n",
    "plt.savefig(\"images/1-5-13.png\", dpi=150)"
   ]
  },
  {
   "cell_type": "markdown",
   "id": "620f7624",
   "metadata": {},
   "source": [
    "**Task 1.5.14:** Use the `groupby` method to create a Series named `mean_price_by_region` that shows the mean home price in each region in Brazil, sorted from smallest to largest."
   ]
  },
  {
   "cell_type": "code",
   "execution_count": null,
   "id": "957bd19c",
   "metadata": {},
   "outputs": [],
   "source": [
    "mean_price_by_region = ...\n",
    "mean_price_by_region"
   ]
  },
  {
   "cell_type": "markdown",
   "id": "8d630041",
   "metadata": {},
   "source": [
    "**Task 1.5.15:** Use `mean_price_by_region` to create a bar chart. Make sure you label the x-axis as `\"Region\"` and the y-axis as `\"Mean Price [USD]\"`, and give the chart the title `\"Mean Home Price by Region\"`. Use pandas. "
   ]
  },
  {
   "cell_type": "code",
   "execution_count": null,
   "id": "fba82512",
   "metadata": {},
   "outputs": [],
   "source": [
    "# Build bar chart, label axes, add title\n",
    "mean_price_by_region.plot()\n",
    "\n",
    "# Don't change the code below 👇\n",
    "plt.savefig(\"images/1-5-15.png\", dpi=150)"
   ]
  },
  {
   "cell_type": "markdown",
   "id": "13883f94",
   "metadata": {},
   "source": [
    "<div class=\"alert alert-block alert-info\">\n",
    "    <b>Keep it up!</b> You're halfway through your data exploration. Take one last break and get ready for the final push. 🚀\n",
    "</div>\n",
    "\n",
    "You're now going to shift your focus to the southern region of Brazil, and look at the relationship between home size and price.\n",
    "\n",
    "**Task 1.5.16:** Create a DataFrame `df_south` that contains all the homes from `df` that are in the `\"South\"` region. "
   ]
  },
  {
   "cell_type": "code",
   "execution_count": null,
   "id": "abfd571c",
   "metadata": {},
   "outputs": [],
   "source": [
    "df_south = ...\n",
    "df_south.head()"
   ]
  },
  {
   "cell_type": "markdown",
   "id": "ed10783e",
   "metadata": {},
   "source": [
    "**Task 1.5.17:** Use the `value_counts` method to create a Series `homes_by_state` that contains the number of properties in each state in `df_south`. "
   ]
  },
  {
   "cell_type": "code",
   "execution_count": null,
   "id": "f629707f",
   "metadata": {},
   "outputs": [],
   "source": [
    "homes_by_state = ...\n",
    "homes_by_state"
   ]
  },
  {
   "cell_type": "markdown",
   "id": "b378e946",
   "metadata": {},
   "source": [
    "**Task 1.5.18:** Create a scatter plot showing price vs. area for the state in `df_south` that has the largest number of properties. Be sure to label the x-axis `\"Area [sq meters]\"` and the y-axis `\"Price [USD]\"`; and use the title `\"<name of state>: Price vs. Area\"`. Use Matplotlib (`plt`)."
   ]
  },
  {
   "cell_type": "markdown",
   "id": "f94eeaf8",
   "metadata": {},
   "source": [
    "<div class=\"alert alert-block alert-info\">\n",
    "    <p><b>Tip:</b> You should replace <code>&lt;name of state&gt;</code> with the name of the state that has the largest number of properties.</p>\n",
    "</div>"
   ]
  },
  {
   "cell_type": "code",
   "execution_count": null,
   "id": "50239b35",
   "metadata": {},
   "outputs": [],
   "source": [
    "# Subset data\n",
    "df_south_rgs = ...\n",
    "\n",
    "# Build scatter plot\n",
    "plt.scatter()\n",
    "\n",
    "\n",
    "# Label axes\n",
    "\n",
    "\n",
    "# Add title\n",
    "plt.title(\"Rio Grande do Sul: Price vs. Area\")\n",
    "\n",
    "# Don't change the code below 👇\n",
    "plt.savefig(\"images/1-5-18.png\", dpi=150)"
   ]
  },
  {
   "cell_type": "markdown",
   "id": "b5131891",
   "metadata": {},
   "source": [
    "**Task 1.5.19:** Create a dictionary `south_states_corr`, where the keys are the names of the three states in the `\"South\"` region of Brazil, and their associated values are the correlation coefficient between `\"area_m2\"` and `\"price_usd\"` in that state.\n",
    "\n",
    "As an example, here's a dictionary with the states and correlation coefficients for the Southeast region. Since you're looking at a different region, the states and coefficients will be different, but the structure of the dictionary will be the same.\n",
    "\n",
    "```python\n",
    "{'Espírito Santo': 0.6311332554173303,\n",
    " 'Minas Gerais': 0.5830029036378931,\n",
    " 'Rio de Janeiro': 0.4554077103515366,\n",
    " 'São Paulo': 0.45882050624839366}\n",
    "```"
   ]
  },
  {
   "cell_type": "code",
   "execution_count": null,
   "id": "96c8df19",
   "metadata": {},
   "outputs": [],
   "source": [
    "south_states_corr = ...\n",
    "south_states_corr"
   ]
  }
 ],
 "metadata": {
  "kernelspec": {
   "display_name": "Python 3 (ipykernel)",
   "language": "python",
   "name": "python3"
  },
  "language_info": {
   "codemirror_mode": {
    "name": "ipython",
    "version": 3
   },
   "file_extension": ".py",
   "mimetype": "text/x-python",
   "name": "python",
   "nbconvert_exporter": "python",
   "pygments_lexer": "ipython3",
   "version": "3.11.5"
  },
  "widgets": {
   "application/vnd.jupyter.widget-state+json": {
    "state": {},
    "version_major": 2,
    "version_minor": 0
   }
  }
 },
 "nbformat": 4,
 "nbformat_minor": 5
}
