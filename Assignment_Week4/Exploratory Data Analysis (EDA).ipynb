{
 "cells": [
  {
   "cell_type": "markdown",
   "id": "9449c69e-1700-4281-b1fb-5d57bcb477b2",
   "metadata": {},
   "source": [
    "<font size=\"+1\"><strong>1.3. Exploratory Data Analysis </strong></font>"
   ]
  },
  {
   "cell_type": "code",
   "execution_count": 2,
   "id": "937cba71-0417-4f09-8b37-87d03eea97da",
   "metadata": {},
   "outputs": [],
   "source": [
    "import matplotlib.pyplot as plt\n",
    "import pandas as pd\n",
    "import plotly.express as px"
   ]
  },
  {
   "cell_type": "markdown",
   "id": "7fa1da97-b097-4632-ae67-5862b4afa1f4",
   "metadata": {},
   "source": [
    "After importing, the next step in many data science projects is exploratory data analysis (EDA), where you get a feel for your data by summarizing its main characteristics using descriptive statistics and data visualization. A good way to plan your EDA is by looking each column and asking yourself questions what it says about your dataset.\n",
    "<span style='color: transparent; font-size:1%'>WQU WorldQuant University Applied Data Science Lab QQQQ</span>"
   ]
  },
  {
   "cell_type": "markdown",
   "id": "38c6bda1-1a12-4886-b646-3c6581282495",
   "metadata": {},
   "source": [
    "### Import Data"
   ]
  },
  {
   "cell_type": "markdown",
   "id": "700ea086-ec71-4a33-b619-19877b386e52",
   "metadata": {},
   "source": [
    "**Task 1.3.1:** Read the CSV file that you created in the last notebook (\"mexico-real-estate-clean.csv\")`https://raw.githubusercontent.com/ddaeducation/data/main/mexico_real_estate_clean.csv` into a DataFrame named `df`. Be sure to check that all your columns are the correct data type before you go to the next task."
   ]
  },
  {
   "cell_type": "code",
   "execution_count": 3,
   "id": "bdc6bf74-1e1f-4177-8b3d-6d9a3ea4873a",
   "metadata": {},
   "outputs": [
    {
     "name": "stdout",
     "output_type": "stream",
     "text": [
      "df type: <class 'pandas.core.frame.DataFrame'>\n",
      "df shape: (1736, 6)\n"
     ]
    },
    {
     "data": {
      "text/html": [
       "<div>\n",
       "<style scoped>\n",
       "    .dataframe tbody tr th:only-of-type {\n",
       "        vertical-align: middle;\n",
       "    }\n",
       "\n",
       "    .dataframe tbody tr th {\n",
       "        vertical-align: top;\n",
       "    }\n",
       "\n",
       "    .dataframe thead th {\n",
       "        text-align: right;\n",
       "    }\n",
       "</style>\n",
       "<table border=\"1\" class=\"dataframe\">\n",
       "  <thead>\n",
       "    <tr style=\"text-align: right;\">\n",
       "      <th></th>\n",
       "      <th>property_type</th>\n",
       "      <th>state</th>\n",
       "      <th>lat</th>\n",
       "      <th>lon</th>\n",
       "      <th>area_m2</th>\n",
       "      <th>price_usd</th>\n",
       "    </tr>\n",
       "  </thead>\n",
       "  <tbody>\n",
       "    <tr>\n",
       "      <th>0</th>\n",
       "      <td>house</td>\n",
       "      <td>Estado de México</td>\n",
       "      <td>19.560181</td>\n",
       "      <td>-99.233528</td>\n",
       "      <td>150</td>\n",
       "      <td>67965.56</td>\n",
       "    </tr>\n",
       "    <tr>\n",
       "      <th>1</th>\n",
       "      <td>house</td>\n",
       "      <td>Nuevo León</td>\n",
       "      <td>25.688436</td>\n",
       "      <td>-100.198807</td>\n",
       "      <td>186</td>\n",
       "      <td>63223.78</td>\n",
       "    </tr>\n",
       "    <tr>\n",
       "      <th>2</th>\n",
       "      <td>apartment</td>\n",
       "      <td>Guerrero</td>\n",
       "      <td>16.767704</td>\n",
       "      <td>-99.764383</td>\n",
       "      <td>82</td>\n",
       "      <td>84298.37</td>\n",
       "    </tr>\n",
       "    <tr>\n",
       "      <th>3</th>\n",
       "      <td>apartment</td>\n",
       "      <td>Guerrero</td>\n",
       "      <td>16.829782</td>\n",
       "      <td>-99.911012</td>\n",
       "      <td>150</td>\n",
       "      <td>94308.80</td>\n",
       "    </tr>\n",
       "    <tr>\n",
       "      <th>4</th>\n",
       "      <td>house</td>\n",
       "      <td>Yucatán</td>\n",
       "      <td>21.052583</td>\n",
       "      <td>-89.538639</td>\n",
       "      <td>205</td>\n",
       "      <td>105191.37</td>\n",
       "    </tr>\n",
       "  </tbody>\n",
       "</table>\n",
       "</div>"
      ],
      "text/plain": [
       "  property_type             state        lat         lon  area_m2  price_usd\n",
       "0         house  Estado de México  19.560181  -99.233528      150   67965.56\n",
       "1         house        Nuevo León  25.688436 -100.198807      186   63223.78\n",
       "2     apartment          Guerrero  16.767704  -99.764383       82   84298.37\n",
       "3     apartment          Guerrero  16.829782  -99.911012      150   94308.80\n",
       "4         house           Yucatán  21.052583  -89.538639      205  105191.37"
      ]
     },
     "execution_count": 3,
     "metadata": {},
     "output_type": "execute_result"
    }
   ],
   "source": [
    "# Import \"mexico-real-estate-clean.csv\"\n",
    "url='https://raw.githubusercontent.com/ddaeducation/data/main/mexico_real_estate_clean.csv'\n",
    "df =pd.read_csv(url)\n",
    "# Print object type, shape, and head\n",
    "print(\"df type:\", type(df))\n",
    "print(\"df shape:\", df.shape)\n",
    "df.head()"
   ]
  },
  {
   "cell_type": "markdown",
   "id": "b2e4d8ab-cabb-4772-9f41-642d57b8fdd6",
   "metadata": {},
   "source": [
    "While there are only two `dtypes` in our DataFrame (`object` and `float64`), there are three categories of  data: location, categorical, and numeric. Each of these require a different kind of exploration in our analysis. "
   ]
  },
  {
   "cell_type": "markdown",
   "id": "56a53e7d-29aa-4166-a957-f3fa085c8d9b",
   "metadata": {},
   "source": [
    "### Location Data: `\"lat\"` and `\"lon\"`"
   ]
  },
  {
   "cell_type": "markdown",
   "id": "6cd6bf12-4aef-4809-8fc0-79cd0d7747e9",
   "metadata": {},
   "source": [
    "They say that the most important thing in real estate is location, and we can see where where in Mexico our houses are located by using the `\"lat\"` and `\"lon\"` columns. Since latitude and longitude are based on a coordinate system, a good way to visualize them is to create a scatter plot on top of a map. A great tool for this is the [`scatter_mapbox`](https://plotly.github.io/plotly.py-docs/generated/plotly.express.scatter_mapbox.html) from the plotly library."
   ]
  },
  {
   "cell_type": "markdown",
   "id": "6168dc11-02b5-4628-845c-dcc774845a77",
   "metadata": {},
   "source": [
    "**Task 1.3.2:** Add `\"lat\"` and `\"lon\"` to the code below, and run the code. You'll see a map that's centered on Mexico City, and you can use the \"Zoom Out\" button in the upper-right corner of the map so that you can see the whole country. "
   ]
  },
  {
   "cell_type": "code",
   "execution_count": 4,
   "id": "9f8733e3-c17f-4c1e-be58-f8cf30e56252",
   "metadata": {},
   "outputs": [
    {
     "ename": "ValueError",
     "evalue": "Value of 'lat' is not the name of a column in 'data_frame'. Expected one of ['property_type', 'state', 'lat', 'lon', 'area_m2', 'price_usd'] but received: Ellipsis",
     "output_type": "error",
     "traceback": [
      "\u001b[0;31m---------------------------------------------------------------------------\u001b[0m",
      "\u001b[0;31mValueError\u001b[0m                                Traceback (most recent call last)",
      "Cell \u001b[0;32mIn[4], line 2\u001b[0m\n\u001b[1;32m      1\u001b[0m \u001b[38;5;66;03m# Use plotly express to create figure\u001b[39;00m\n\u001b[0;32m----> 2\u001b[0m fig \u001b[38;5;241m=\u001b[39m \u001b[43mpx\u001b[49m\u001b[38;5;241;43m.\u001b[39;49m\u001b[43mscatter_mapbox\u001b[49m\u001b[43m(\u001b[49m\n\u001b[1;32m      3\u001b[0m \u001b[43m    \u001b[49m\u001b[43mdf\u001b[49m\u001b[43m,\u001b[49m\u001b[43m  \u001b[49m\u001b[38;5;66;43;03m# Our DataFrame\u001b[39;49;00m\n\u001b[1;32m      4\u001b[0m \u001b[43m    \u001b[49m\u001b[43mlat\u001b[49m\u001b[38;5;241;43m=\u001b[39;49m\u001b[38;5;241;43m.\u001b[39;49m\u001b[38;5;241;43m.\u001b[39;49m\u001b[38;5;241;43m.\u001b[39;49m\u001b[43m,\u001b[49m\n\u001b[1;32m      5\u001b[0m \u001b[43m    \u001b[49m\u001b[43mlon\u001b[49m\u001b[38;5;241;43m=\u001b[39;49m\u001b[38;5;241;43m.\u001b[39;49m\u001b[38;5;241;43m.\u001b[39;49m\u001b[38;5;241;43m.\u001b[39;49m\u001b[43m,\u001b[49m\n\u001b[1;32m      6\u001b[0m \u001b[43m    \u001b[49m\u001b[43mcenter\u001b[49m\u001b[38;5;241;43m=\u001b[39;49m\u001b[43m{\u001b[49m\u001b[38;5;124;43m\"\u001b[39;49m\u001b[38;5;124;43mlat\u001b[39;49m\u001b[38;5;124;43m\"\u001b[39;49m\u001b[43m:\u001b[49m\u001b[43m \u001b[49m\u001b[38;5;241;43m19.43\u001b[39;49m\u001b[43m,\u001b[49m\u001b[43m \u001b[49m\u001b[38;5;124;43m\"\u001b[39;49m\u001b[38;5;124;43mlon\u001b[39;49m\u001b[38;5;124;43m\"\u001b[39;49m\u001b[43m:\u001b[49m\u001b[43m \u001b[49m\u001b[38;5;241;43m-\u001b[39;49m\u001b[38;5;241;43m99.13\u001b[39;49m\u001b[43m}\u001b[49m\u001b[43m,\u001b[49m\u001b[43m  \u001b[49m\u001b[38;5;66;43;03m# Map will be centered on Mexico City\u001b[39;49;00m\n\u001b[1;32m      7\u001b[0m \u001b[43m    \u001b[49m\u001b[43mwidth\u001b[49m\u001b[38;5;241;43m=\u001b[39;49m\u001b[38;5;241;43m600\u001b[39;49m\u001b[43m,\u001b[49m\u001b[43m  \u001b[49m\u001b[38;5;66;43;03m# Width of map\u001b[39;49;00m\n\u001b[1;32m      8\u001b[0m \u001b[43m    \u001b[49m\u001b[43mheight\u001b[49m\u001b[38;5;241;43m=\u001b[39;49m\u001b[38;5;241;43m600\u001b[39;49m\u001b[43m,\u001b[49m\u001b[43m  \u001b[49m\u001b[38;5;66;43;03m# Height of map\u001b[39;49;00m\n\u001b[1;32m      9\u001b[0m \u001b[43m    \u001b[49m\u001b[43mhover_data\u001b[49m\u001b[38;5;241;43m=\u001b[39;49m\u001b[43m[\u001b[49m\u001b[38;5;124;43m\"\u001b[39;49m\u001b[38;5;124;43mprice_usd\u001b[39;49m\u001b[38;5;124;43m\"\u001b[39;49m\u001b[43m]\u001b[49m\u001b[43m,\u001b[49m\u001b[43m  \u001b[49m\u001b[38;5;66;43;03m# Display price when hovering mouse over house\u001b[39;49;00m\n\u001b[1;32m     10\u001b[0m \u001b[43m)\u001b[49m\n\u001b[1;32m     12\u001b[0m \u001b[38;5;66;03m# Add mapbox_style to figure layout\u001b[39;00m\n\u001b[1;32m     13\u001b[0m fig\u001b[38;5;241m.\u001b[39mupdate_layout(mapbox_style\u001b[38;5;241m=\u001b[39m\u001b[38;5;124m\"\u001b[39m\u001b[38;5;124mopen-street-map\u001b[39m\u001b[38;5;124m\"\u001b[39m)\n",
      "File \u001b[0;32m~/miniconda3/lib/python3.11/site-packages/plotly/express/_chart_types.py:1247\u001b[0m, in \u001b[0;36mscatter_mapbox\u001b[0;34m(data_frame, lat, lon, color, text, hover_name, hover_data, custom_data, size, animation_frame, animation_group, category_orders, labels, color_discrete_sequence, color_discrete_map, color_continuous_scale, range_color, color_continuous_midpoint, opacity, size_max, zoom, center, mapbox_style, title, template, width, height)\u001b[0m\n\u001b[1;32m   1214\u001b[0m \u001b[38;5;28;01mdef\u001b[39;00m \u001b[38;5;21mscatter_mapbox\u001b[39m(\n\u001b[1;32m   1215\u001b[0m     data_frame\u001b[38;5;241m=\u001b[39m\u001b[38;5;28;01mNone\u001b[39;00m,\n\u001b[1;32m   1216\u001b[0m     lat\u001b[38;5;241m=\u001b[39m\u001b[38;5;28;01mNone\u001b[39;00m,\n\u001b[0;32m   (...)\u001b[0m\n\u001b[1;32m   1241\u001b[0m     height\u001b[38;5;241m=\u001b[39m\u001b[38;5;28;01mNone\u001b[39;00m,\n\u001b[1;32m   1242\u001b[0m ) \u001b[38;5;241m-\u001b[39m\u001b[38;5;241m>\u001b[39m go\u001b[38;5;241m.\u001b[39mFigure:\n\u001b[1;32m   1243\u001b[0m \u001b[38;5;250m    \u001b[39m\u001b[38;5;124;03m\"\"\"\u001b[39;00m\n\u001b[1;32m   1244\u001b[0m \u001b[38;5;124;03m    In a Mapbox scatter plot, each row of `data_frame` is represented by a\u001b[39;00m\n\u001b[1;32m   1245\u001b[0m \u001b[38;5;124;03m    symbol mark on a Mapbox map.\u001b[39;00m\n\u001b[1;32m   1246\u001b[0m \u001b[38;5;124;03m    \"\"\"\u001b[39;00m\n\u001b[0;32m-> 1247\u001b[0m     \u001b[38;5;28;01mreturn\u001b[39;00m \u001b[43mmake_figure\u001b[49m\u001b[43m(\u001b[49m\u001b[43margs\u001b[49m\u001b[38;5;241;43m=\u001b[39;49m\u001b[38;5;28;43mlocals\u001b[39;49m\u001b[43m(\u001b[49m\u001b[43m)\u001b[49m\u001b[43m,\u001b[49m\u001b[43m \u001b[49m\u001b[43mconstructor\u001b[49m\u001b[38;5;241;43m=\u001b[39;49m\u001b[43mgo\u001b[49m\u001b[38;5;241;43m.\u001b[39;49m\u001b[43mScattermapbox\u001b[49m\u001b[43m)\u001b[49m\n",
      "File \u001b[0;32m~/miniconda3/lib/python3.11/site-packages/plotly/express/_core.py:2076\u001b[0m, in \u001b[0;36mmake_figure\u001b[0;34m(args, constructor, trace_patch, layout_patch)\u001b[0m\n\u001b[1;32m   2073\u001b[0m layout_patch \u001b[38;5;241m=\u001b[39m layout_patch \u001b[38;5;129;01mor\u001b[39;00m {}\n\u001b[1;32m   2074\u001b[0m apply_default_cascade(args)\n\u001b[0;32m-> 2076\u001b[0m args \u001b[38;5;241m=\u001b[39m \u001b[43mbuild_dataframe\u001b[49m\u001b[43m(\u001b[49m\u001b[43margs\u001b[49m\u001b[43m,\u001b[49m\u001b[43m \u001b[49m\u001b[43mconstructor\u001b[49m\u001b[43m)\u001b[49m\n\u001b[1;32m   2077\u001b[0m \u001b[38;5;28;01mif\u001b[39;00m constructor \u001b[38;5;129;01min\u001b[39;00m [go\u001b[38;5;241m.\u001b[39mTreemap, go\u001b[38;5;241m.\u001b[39mSunburst, go\u001b[38;5;241m.\u001b[39mIcicle] \u001b[38;5;129;01mand\u001b[39;00m args[\u001b[38;5;124m\"\u001b[39m\u001b[38;5;124mpath\u001b[39m\u001b[38;5;124m\"\u001b[39m] \u001b[38;5;129;01mis\u001b[39;00m \u001b[38;5;129;01mnot\u001b[39;00m \u001b[38;5;28;01mNone\u001b[39;00m:\n\u001b[1;32m   2078\u001b[0m     args \u001b[38;5;241m=\u001b[39m process_dataframe_hierarchy(args)\n",
      "File \u001b[0;32m~/miniconda3/lib/python3.11/site-packages/plotly/express/_core.py:1485\u001b[0m, in \u001b[0;36mbuild_dataframe\u001b[0;34m(args, constructor)\u001b[0m\n\u001b[1;32m   1482\u001b[0m     args[\u001b[38;5;124m\"\u001b[39m\u001b[38;5;124mcolor\u001b[39m\u001b[38;5;124m\"\u001b[39m] \u001b[38;5;241m=\u001b[39m \u001b[38;5;28;01mNone\u001b[39;00m\n\u001b[1;32m   1483\u001b[0m \u001b[38;5;66;03m# now that things have been prepped, we do the systematic rewriting of `args`\u001b[39;00m\n\u001b[0;32m-> 1485\u001b[0m df_output, wide_id_vars \u001b[38;5;241m=\u001b[39m \u001b[43mprocess_args_into_dataframe\u001b[49m\u001b[43m(\u001b[49m\n\u001b[1;32m   1486\u001b[0m \u001b[43m    \u001b[49m\u001b[43margs\u001b[49m\u001b[43m,\u001b[49m\u001b[43m \u001b[49m\u001b[43mwide_mode\u001b[49m\u001b[43m,\u001b[49m\u001b[43m \u001b[49m\u001b[43mvar_name\u001b[49m\u001b[43m,\u001b[49m\u001b[43m \u001b[49m\u001b[43mvalue_name\u001b[49m\n\u001b[1;32m   1487\u001b[0m \u001b[43m\u001b[49m\u001b[43m)\u001b[49m\n\u001b[1;32m   1489\u001b[0m \u001b[38;5;66;03m# now that `df_output` exists and `args` contains only references, we complete\u001b[39;00m\n\u001b[1;32m   1490\u001b[0m \u001b[38;5;66;03m# the special-case and wide-mode handling by further rewriting args and/or mutating\u001b[39;00m\n\u001b[1;32m   1491\u001b[0m \u001b[38;5;66;03m# df_output\u001b[39;00m\n\u001b[1;32m   1493\u001b[0m count_name \u001b[38;5;241m=\u001b[39m _escape_col_name(df_output, \u001b[38;5;124m\"\u001b[39m\u001b[38;5;124mcount\u001b[39m\u001b[38;5;124m\"\u001b[39m, [var_name, value_name])\n",
      "File \u001b[0;32m~/miniconda3/lib/python3.11/site-packages/plotly/express/_core.py:1210\u001b[0m, in \u001b[0;36mprocess_args_into_dataframe\u001b[0;34m(args, wide_mode, var_name, value_name)\u001b[0m\n\u001b[1;32m   1208\u001b[0m         \u001b[38;5;28;01mif\u001b[39;00m argument \u001b[38;5;241m==\u001b[39m \u001b[38;5;124m\"\u001b[39m\u001b[38;5;124mindex\u001b[39m\u001b[38;5;124m\"\u001b[39m:\n\u001b[1;32m   1209\u001b[0m             err_msg \u001b[38;5;241m+\u001b[39m\u001b[38;5;241m=\u001b[39m \u001b[38;5;124m\"\u001b[39m\u001b[38;5;130;01m\\n\u001b[39;00m\u001b[38;5;124m To use the index, pass it in directly as `df.index`.\u001b[39m\u001b[38;5;124m\"\u001b[39m\n\u001b[0;32m-> 1210\u001b[0m         \u001b[38;5;28;01mraise\u001b[39;00m \u001b[38;5;167;01mValueError\u001b[39;00m(err_msg)\n\u001b[1;32m   1211\u001b[0m \u001b[38;5;28;01melif\u001b[39;00m length \u001b[38;5;129;01mand\u001b[39;00m \u001b[38;5;28mlen\u001b[39m(df_input[argument]) \u001b[38;5;241m!=\u001b[39m length:\n\u001b[1;32m   1212\u001b[0m     \u001b[38;5;28;01mraise\u001b[39;00m \u001b[38;5;167;01mValueError\u001b[39;00m(\n\u001b[1;32m   1213\u001b[0m         \u001b[38;5;124m\"\u001b[39m\u001b[38;5;124mAll arguments should have the same length. \u001b[39m\u001b[38;5;124m\"\u001b[39m\n\u001b[1;32m   1214\u001b[0m         \u001b[38;5;124m\"\u001b[39m\u001b[38;5;124mThe length of column argument `df[\u001b[39m\u001b[38;5;132;01m%s\u001b[39;00m\u001b[38;5;124m]` is \u001b[39m\u001b[38;5;132;01m%d\u001b[39;00m\u001b[38;5;124m, whereas the \u001b[39m\u001b[38;5;124m\"\u001b[39m\n\u001b[0;32m   (...)\u001b[0m\n\u001b[1;32m   1221\u001b[0m         )\n\u001b[1;32m   1222\u001b[0m     )\n",
      "\u001b[0;31mValueError\u001b[0m: Value of 'lat' is not the name of a column in 'data_frame'. Expected one of ['property_type', 'state', 'lat', 'lon', 'area_m2', 'price_usd'] but received: Ellipsis"
     ]
    }
   ],
   "source": [
    "# Use plotly express to create figure\n",
    "fig = px.scatter_mapbox(\n",
    "    df,  # Our DataFrame\n",
    "    lat=...,\n",
    "    lon=...,\n",
    "    center={\"lat\": 19.43, \"lon\": -99.13},  # Map will be centered on Mexico City\n",
    "    width=600,  # Width of map\n",
    "    height=600,  # Height of map\n",
    "    hover_data=[\"price_usd\"],  # Display price when hovering mouse over house\n",
    ")\n",
    "\n",
    "# Add mapbox_style to figure layout\n",
    "fig.update_layout(mapbox_style=\"open-street-map\")\n",
    "\n",
    "# Show figure\n",
    "fig.show()"
   ]
  },
  {
   "cell_type": "markdown",
   "id": "c99ed35b-d61c-4522-b1ff-04e570840f66",
   "metadata": {},
   "source": [
    "Looking at this map, are the houses in our dataset distributed evenly throughout the country, or are there states or regions that are more prevalent? Can you guess where Mexico's biggest cities are based on this distribution?"
   ]
  },
  {
   "cell_type": "markdown",
   "id": "7642d44e-6c4b-43a3-81cf-d2cac484211e",
   "metadata": {},
   "source": [
    "### Categorical Data: `\"state\"`"
   ]
  },
  {
   "cell_type": "markdown",
   "id": "61b08ef7-63a6-402e-a37b-bae60c56d319",
   "metadata": {},
   "source": [
    "Even though we can get a good idea of which states are most common in our dataset from looking at a map, we can also get the exact count by using the `\"state\"` column. "
   ]
  },
  {
   "cell_type": "markdown",
   "id": "703fce25-9161-4ded-9a40-808bb09d5e71",
   "metadata": {},
   "source": [
    "**Task 1.3.3:** Use the [`value_counts`](https://pandas.pydata.org/docs/reference/api/pandas.Series.value_counts.html) method on the `\"state\"` column to determine the 10 most prevalent states in our dataset."
   ]
  },
  {
   "cell_type": "code",
   "execution_count": null,
   "id": "115c7655-1851-4bfb-bcb6-cf4124eb4a62",
   "metadata": {},
   "outputs": [],
   "source": [
    "# Get value counts of \"state\" column\n"
   ]
  },
  {
   "cell_type": "markdown",
   "id": "ca20341e-1107-4499-b48e-05612991ddda",
   "metadata": {},
   "source": [
    "### Numerical Data: `\"area_m2\"` and `\"price_usd\"`"
   ]
  },
  {
   "cell_type": "markdown",
   "id": "334fce6c-61b5-48f5-ad81-cf30b5f720bc",
   "metadata": {},
   "source": [
    "We have a sense for where the houses in our dataset are located, but how much do they cost? How big are they? The best way to answer those questions is looking at descriptive statistics. "
   ]
  },
  {
   "cell_type": "markdown",
   "id": "6b68d2aa-53ce-484c-b55b-6374a372fe9d",
   "metadata": {},
   "source": [
    "**Task 1.3.4:** Use the [`describe`](https://pandas.pydata.org/pandas-docs/stable/reference/api/pandas.DataFrame.describe.html) method to print the mean, standard deviation, and quartiles for the `\"area_m2\"` and `\"price_usd\"` columns.\n",
    "\n",
    "- [What's numerical data?](../%40textbook/05-pandas-summary-statistics.ipynb#Numerical-Data)\n",
    "- [What's a mean?](../%40textbook/05-pandas-summary-statistics.ipynb#The-Mean)\n",
    "- [What's a standard deviation?](../%40textbook/05-pandas-summary-statistics.ipynb#Standard-Deviation)\n",
    "- [What are quartiles?](../%40textbook/05-pandas-summary-statistics.ipynb#Quartiles)\n",
    "- [Print the summary statistics for a DataFrame using pandas.](../%40textbook/05-pandas-summary-statistics.ipynb#Working-with-Summary-Statistics)"
   ]
  },
  {
   "cell_type": "code",
   "execution_count": null,
   "id": "c2ed8ac6-f2eb-40ca-b2e2-d1e50144e589",
   "metadata": {},
   "outputs": [],
   "source": [
    "# Describe \"area_m2\", \"price_usd\" columns"
   ]
  },
  {
   "cell_type": "markdown",
   "id": "ff71505d-5aea-45ae-91ee-e31d9cbc5059",
   "metadata": {},
   "source": [
    "Let's start by looking at `\"area_m2\"`. It's interesting that the mean is larger than the median (another name for the 50% quartile). Both of these statistics are supposed to give an idea of the \"typical\" value for the column, so why is there a difference of almost 15 m<sup>2</sup> between them? To answer this question, we need to see how house sizes are distributed in our dataset. Let's look at two ways to visualize the distribution: a histogram and a boxplot."
   ]
  },
  {
   "cell_type": "markdown",
   "id": "12b1b238-b73b-4988-a470-ef3b8aed2dc1",
   "metadata": {},
   "source": [
    "**Task 1.3.5:** Create a histogram of `\"area_m2\"`. Make sure that the x-axis has the label `\"Area [sq meters]\"`, the y-axis has the label `\"Frequency\"`, and the plot has the title `\"Distribution of Home Sizes\"`. \n",
    "\n",
    "- [What's a histogram?](../%40textbook/06-visualization-matplotlib.ipynb#Histograms)\n",
    "- [Create a histogram using Matplotlib.](../%40textbook/06-visualization-matplotlib.ipynb#Histograms) "
   ]
  },
  {
   "cell_type": "code",
   "execution_count": null,
   "id": "9da625e1-fff8-4df4-9a69-2930e7482a84",
   "metadata": {},
   "outputs": [],
   "source": [
    "# Use Matplotlib to create histogram of \"area_m2\"\n",
    "\n",
    "\n",
    "# Add x-axis label\n",
    "\n",
    "\n",
    "# Add y-axis label\n",
    "\n",
    "\n",
    "# Add title\n"
   ]
  },
  {
   "cell_type": "markdown",
   "id": "ea9b315a-7356-46f0-a440-33a00c554e07",
   "metadata": {},
   "source": [
    "Looking at our histogram, we can see that `\"area_m2\"` skews right. In other words, there are more houses at the lower end of the distribution (50–200m<sup>2</sup>) than at the higher end (250–400m<sup>2</sup>). That explains the difference between the mean and the median."
   ]
  },
  {
   "cell_type": "markdown",
   "id": "778256df-62cc-4de3-b2a1-dc1f179a67d9",
   "metadata": {},
   "source": [
    "**Task 1.3.6:** Create a horizontal boxplot of `\"area_m2\"`. Make sure that the x-axis has the label `\"Area [sq meters]\"` and the plot has the title `\"Distribution of Home Sizes\"`. How is the distribution and its left skew represented differently here than in your histogram?\n",
    "\n",
    "- [What's a boxplot?](../%40textbook/06-visualization-matplotlib.ipynb#Boxplots)\n",
    "- [What's a skewed distribution?](../%40textbook/05-pandas-summary-statistics.ipynb#Skewed-Distributions)\n",
    "- [Create a boxplot using Matplotlib.](../%40textbook/06-visualization-matplotlib.ipynb#Boxplots)"
   ]
  },
  {
   "cell_type": "code",
   "execution_count": null,
   "id": "1e6c6cb1-6927-4528-ba57-836b4bd667ad",
   "metadata": {},
   "outputs": [],
   "source": [
    "# Use Matplotlib to create boxplot of \"area_m2\"\n",
    "\n",
    "\n",
    "# Add x-axis label\n",
    "\n",
    "\n",
    "# Add title\n"
   ]
  },
  {
   "cell_type": "markdown",
   "id": "47b51164-f010-4fc7-a86c-5ac16b6dad56",
   "metadata": {},
   "source": [
    "Does `\"price_usd\"` have the same distribution as `\"price_per_m2\"`? Let's use the same two visualization tools to find out."
   ]
  },
  {
   "cell_type": "markdown",
   "id": "dd52c15c-bfdc-4be8-85d9-75d3c6a697f5",
   "metadata": {},
   "source": [
    "**Task 1.3.7:** Create a histogram of `\"price_usd\"`. Make sure that the x-axis has the label `\"Price [USD]\"`, the y-axis has the label `\"Frequency\"`, and the plot has the title `\"Distribution of Home Prices\"`. \n",
    "\n",
    "- [What's a histogram?](../%40textbook/06-visualization-matplotlib.ipynb#Histograms)\n",
    "- [Create a histogram using Matplotlib.](../%40textbook/06-visualization-matplotlib.ipynb#Histograms) "
   ]
  },
  {
   "cell_type": "code",
   "execution_count": null,
   "id": "c369fa55-d4f7-475d-9859-298b80ea21f9",
   "metadata": {},
   "outputs": [],
   "source": [
    "# Use Matplotlib to create histogram of \"price_usd\"\n",
    "\n",
    "\n",
    "# Add x-axis label\n",
    "\n",
    "\n",
    "# Add y-axis label\n",
    "\n",
    "\n",
    "# Add title"
   ]
  },
  {
   "cell_type": "markdown",
   "id": "daf09b34-f0e3-49d2-8506-93c63dc22cad",
   "metadata": {},
   "source": [
    "Looks like `\"price_usd\"` is even more skewed than `\"area_m2\"`. What does this bigger skew look like in a boxplot?"
   ]
  },
  {
   "cell_type": "markdown",
   "id": "5542e200-04c8-4079-ab3a-24179d8adb13",
   "metadata": {},
   "source": [
    "**Task 1.3.8:** Create a horizontal boxplot of `\"price_usd\"`. Make sure that the x-axis has the label `\"Price [USD]\"` and the plot has the title `\"Distribution of Home Prices\"`.\n",
    "\n",
    "- [What's a boxplot?](../%40textbook/06-visualization-matplotlib.ipynb#Boxplots)\n",
    "- [What's an outlier?](../%40textbook/05-pandas-summary-statistics.ipynb#Outliers)\n",
    "- [Create a boxplot using Matplotlib.](../%40textbook/06-visualization-matplotlib.ipynb#Boxplots)"
   ]
  },
  {
   "cell_type": "code",
   "execution_count": null,
   "id": "72ca58b0-280f-4a7c-ac96-f1451f9cc4fb",
   "metadata": {},
   "outputs": [],
   "source": [
    "# Use Matplotlib to create boxplot of \"price_usd\"\n",
    "\n",
    "\n",
    "# Add x-label axis\n",
    "\n",
    "\n",
    "# Add y-label axis\n"
   ]
  },
  {
   "cell_type": "markdown",
   "id": "64f493a3-8063-4dc5-b87e-cd8f1de30d7d",
   "metadata": {},
   "source": [
    "Excellent job! Now that you have a sense of for the dataset, let's move to the next notebook and start answering some research questions about the relationship between house size, price, and location."
   ]
  },
  {
   "cell_type": "markdown",
   "id": "d2994758",
   "metadata": {},
   "source": [
    "                                   End"
   ]
  },
  {
   "cell_type": "code",
   "execution_count": null,
   "id": "78e5a8fd",
   "metadata": {},
   "outputs": [],
   "source": []
  }
 ],
 "metadata": {
  "kernelspec": {
   "display_name": "Python 3 (ipykernel)",
   "language": "python",
   "name": "python3"
  },
  "language_info": {
   "codemirror_mode": {
    "name": "ipython",
    "version": 3
   },
   "file_extension": ".py",
   "mimetype": "text/x-python",
   "name": "python",
   "nbconvert_exporter": "python",
   "pygments_lexer": "ipython3",
   "version": "3.11.5"
  },
  "widgets": {
   "application/vnd.jupyter.widget-state+json": {
    "state": {},
    "version_major": 2,
    "version_minor": 0
   }
  }
 },
 "nbformat": 4,
 "nbformat_minor": 5
}
