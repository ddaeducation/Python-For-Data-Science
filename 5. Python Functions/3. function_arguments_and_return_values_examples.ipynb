{
 "cells": [
  {
   "cell_type": "markdown",
   "id": "2a0f72a6-76ee-472f-a36d-5527d26f95cc",
   "metadata": {},
   "source": [
    "<center>\n",
    "<img src=\"https://github.com/ddaeducation/Images/raw/main/lgo.png\" alt=\"Global Nexus Institute of Technology\" width=\"150\">\n",
    "</center><hr style=\"height: 5px; background-color: red; border: none;\">"
   ]
  },
  {
   "cell_type": "markdown",
   "id": "f662d169",
   "metadata": {
    "id": "f662d169"
   },
   "source": [
    "# Examples: Function arguments and return values"
   ]
  },
  {
   "cell_type": "markdown",
   "id": "26af890c",
   "metadata": {
    "id": "26af890c"
   },
   "source": [
    "In this notebook, we explore the fundamental concepts related to function inputs and outputs. We explore the types of function inputs, the handling of variable inputs with `*args` and `**kwargs`, and the usefulness of multiple return values to create versatile and informative functions."
   ]
  },
  {
   "cell_type": "markdown",
   "id": "2d230d14",
   "metadata": {
    "id": "2d230d14",
    "tags": []
   },
   "source": [
    "## Learning objectives\n",
    "\n",
    "By the end of this train, you should be able to:\n",
    "- Differentiate between the types of function inputs.\n",
    "- Understand the difference between `*args` and `**kwargs` and how to use them.\n",
    "- Understand how to return multiple values from a function and how to unpack those values into separate variables."
   ]
  },
  {
   "cell_type": "markdown",
   "id": "e91773d2",
   "metadata": {
    "id": "e91773d2"
   },
   "source": [
    "## Function inputs\n",
    "\n",
    "Functions in Python are like tools that perform specific tasks. To make these tools versatile, we need a way to provide them with information. Inputs in functions serve this purpose, allowing us to customise the function's behaviour based on different situations.\n",
    "\n",
    "### Types of inputs\n",
    "\n",
    "#### No input\n",
    "\n",
    "Sometimes, a function doesn't require any input to perform its task. For example, suppose we wanted to write a function that would print a general deforestation message throughout our program at various phases."
   ]
  },
  {
   "cell_type": "code",
   "execution_count": 3,
   "id": "41d0848f",
   "metadata": {
    "executionInfo": {
     "elapsed": 1355,
     "status": "ok",
     "timestamp": 1735464879038,
     "user": {
      "displayName": "Theoneste NDAYISENGA",
      "userId": "00255849763261023763"
     },
     "user_tz": -120
    },
    "id": "41d0848f"
   },
   "outputs": [],
   "source": [
    "#Create a function that prints a general deforestation message\n",
    "def create_deforestation_message():\n",
    "    \"\"\"\n",
    "    Generates a general message about deforestation.\n",
    "    \"\"\"\n",
    "    print(\"Deforestation is a serious environmental issue. Help save our forests!\")"
   ]
  },
  {
   "cell_type": "code",
   "execution_count": 4,
   "id": "593ab8fa",
   "metadata": {
    "colab": {
     "base_uri": "https://localhost:8080/"
    },
    "executionInfo": {
     "elapsed": 420,
     "status": "ok",
     "timestamp": 1735464882789,
     "user": {
      "displayName": "Theoneste NDAYISENGA",
      "userId": "00255849763261023763"
     },
     "user_tz": -120
    },
    "id": "593ab8fa",
    "outputId": "1009d6a9-5806-497c-b852-d6194af7dda3"
   },
   "outputs": [
    {
     "name": "stdout",
     "output_type": "stream",
     "text": [
      "Deforestation is a serious environmental issue. Help save our forests!\n"
     ]
    }
   ],
   "source": [
    "#Use the create_deforestation_message function\n",
    "create_deforestation_message()"
   ]
  },
  {
   "cell_type": "markdown",
   "id": "2e090b19",
   "metadata": {
    "id": "2e090b19"
   },
   "source": [
    "This function does not require any input from the user in order to produce the desired outcome."
   ]
  },
  {
   "cell_type": "markdown",
   "id": "1378b1d7",
   "metadata": {
    "id": "1378b1d7"
   },
   "source": [
    "#### Default inputs\n",
    "\n",
    "Default inputs provide a way to set default values for named arguments in a function. If a value is not provided when calling the function, the default value is used.\n",
    "\n",
    "Suppose we wanted to give the user the option of entering their own personalised message if they so desired. In this case, we could use default arguments."
   ]
  },
  {
   "cell_type": "code",
   "execution_count": 5,
   "id": "da26696e",
   "metadata": {
    "executionInfo": {
     "elapsed": 721,
     "status": "ok",
     "timestamp": 1735464892145,
     "user": {
      "displayName": "Theoneste NDAYISENGA",
      "userId": "00255849763261023763"
     },
     "user_tz": -120
    },
    "id": "da26696e"
   },
   "outputs": [],
   "source": [
    "#Create a function that prints a general deforestation message using a default argument\n",
    "def create_deforestation_message (location,\n",
    "                                  message=\"Deforestation is a serious environmental issue. Help save our forests!\"):\n",
    "    \"\"\"\n",
    "    Generates a general message about deforestation.\n",
    "\n",
    "    Parameters:\n",
    "    - location: str, the location affected by deforestation\n",
    "    - message: str, the message to convey (default is a general message)\n",
    "    \"\"\"\n",
    "    print(f\"Deforestation in {location}: {message}\")\n",
    "\n"
   ]
  },
  {
   "cell_type": "markdown",
   "id": "33774312",
   "metadata": {
    "id": "33774312"
   },
   "source": [
    "A user who does not need a personalised message could use the function without providing a value for the `message` argument."
   ]
  },
  {
   "cell_type": "code",
   "execution_count": null,
   "id": "b8cd9672",
   "metadata": {
    "id": "b8cd9672"
   },
   "outputs": [],
   "source": [
    "create_deforestation_message(\"Amazon Rainforest\")"
   ]
  },
  {
   "cell_type": "markdown",
   "id": "1c9a6ef8",
   "metadata": {
    "id": "1c9a6ef8"
   },
   "source": [
    "Alternatively, a user that needs a unique message can use the `message` parameter to specify it."
   ]
  },
  {
   "cell_type": "code",
   "execution_count": null,
   "id": "9b72469f",
   "metadata": {
    "id": "9b72469f"
   },
   "outputs": [],
   "source": [
    "create_deforestation_message(\"Borneo\", \"Preserve biodiversity!\")"
   ]
  },
  {
   "cell_type": "markdown",
   "id": "3f985889",
   "metadata": {
    "id": "3f985889"
   },
   "source": [
    "In the above examples, the message parameter has a default value, making it optional when calling the function."
   ]
  },
  {
   "cell_type": "markdown",
   "id": "e9956efe",
   "metadata": {
    "id": "e9956efe",
    "tags": []
   },
   "source": [
    "####  Variable inputs\n",
    "\n",
    "Sometimes, we might want a function to accept an arbitrary number of arguments without specifying their names.\n",
    "\n",
    "Python provides us with two variadic inputs – `*args` and `**kwargs`.\n",
    "\n",
    "For us to understand `*args` and `**kwargs`, it's important for us to understand the difference between keyword arguments and non-keyword arguments.\n",
    "\n",
    "##### Keyword arguments\n",
    "Keyword arguments are used when we call a function and explicitly assign an argument to a parameter. The sequence in which we pass the arguments does not matter when using keyword arguments, because we explicitly assign the parameters to the variable."
   ]
  },
  {
   "cell_type": "code",
   "execution_count": null,
   "id": "b72c88fa",
   "metadata": {
    "id": "b72c88fa"
   },
   "outputs": [],
   "source": [
    "#Create a function that prints a general deforestation message using a default argument\n",
    "def create_deforestation_message (location,\n",
    "                                  message=\"Deforestation is a serious environmental issue. Help save our forests!\"):\n",
    "    \"\"\"\n",
    "    Generates a general message about deforestation.\n",
    "\n",
    "    Parameters:\n",
    "    - location: str, the location affected by deforestation\n",
    "    - message: str, the message to convey (default is a general message)\n",
    "    \"\"\"\n",
    "    print(f\"Deforestation in {location}: {message}\")\n",
    "\n",
    "#call the create_deforestation_message function using keyword arguments\n",
    "create_deforestation_message(message = \"Preserve biodiversity!\", location = \"Borneo\", )"
   ]
  },
  {
   "cell_type": "markdown",
   "id": "b347fb66",
   "metadata": {
    "id": "b347fb66"
   },
   "source": [
    "In the function call above, we used keyword parameters to call the `create_deforestation_message` function. We entered the `message` and then the `location` to explicitly assign each argument to its parameter, regardless of order."
   ]
  },
  {
   "cell_type": "markdown",
   "id": "96a984f8",
   "metadata": {
    "id": "96a984f8"
   },
   "source": [
    "##### Positional arguments/Non-keyword arguments\n",
    "When we call a function in Python and supply arguments based on the position of the parameters, the arguments are referred to as positional arguments. Positional arguments are thus matched with parameters based on their position. Positional arguments are often known as \"non-keyword arguments\".\n"
   ]
  },
  {
   "cell_type": "code",
   "execution_count": null,
   "id": "5a59aebe",
   "metadata": {
    "id": "5a59aebe"
   },
   "outputs": [],
   "source": [
    "#Create a function that prints a general deforestation message using a default argument\n",
    "def create_deforestation_message (location,\n",
    "                                  message=\"Deforestation is a serious environmental issue. Help save our forests!\"):\n",
    "    \"\"\"\n",
    "    Generates a general message about deforestation.\n",
    "\n",
    "    Parameters:\n",
    "    - location: str, the location affected by deforestation\n",
    "    - message: str, the message to convey (default is a general message)\n",
    "    \"\"\"\n",
    "    print(f\"Deforestation in {location}: {message}\")\n",
    "\n",
    "#call the create_deforestation_message function using positional arguments\n",
    "create_deforestation_message( \"Borneo\", \"Preserve biodiversity!\" )"
   ]
  },
  {
   "cell_type": "markdown",
   "id": "71fdcca9",
   "metadata": {
    "id": "71fdcca9"
   },
   "source": [
    "We utilised positional parameters in the function call above to call the `create_deforestation_message` function. The arguments were entered in the correct sequence depending on their placement in the function parameters.\n",
    "\n",
    "Unlike keyword arguments, if we changed the order of these parameters, the function wouldn't perform as expected."
   ]
  },
  {
   "cell_type": "code",
   "execution_count": null,
   "id": "8f420ac1",
   "metadata": {
    "id": "8f420ac1"
   },
   "outputs": [],
   "source": [
    "#call the create_deforestation_message function using positional arguments in the incorrect order\n",
    "create_deforestation_message(\"Preserve biodiversity!\", \"Borneo\")"
   ]
  },
  {
   "cell_type": "markdown",
   "id": "4f74266a",
   "metadata": {
    "id": "4f74266a"
   },
   "source": [
    "#### *args: Variable non-keyword arguments\n",
    "\n",
    "`*args` enable a function to accept any number of positional arguments, that is, non-keyword arguments in a variable-length argument list.\n",
    "\n",
    "An `*args` parameter is created in the same way as any other parameter, with the exception that an asterisk is added before the parameter name.\n",
    "\n",
    "Suppose we also wanted to create a function that allows the user to track the impact of deforestation on their forest. We could write a function that takes each consequence as an argument, but users may want to list a varying number of consequences or arguments.  This would be possible with `*args`."
   ]
  },
  {
   "cell_type": "code",
   "execution_count": 1,
   "id": "a2e44d22",
   "metadata": {
    "colab": {
     "base_uri": "https://localhost:8080/"
    },
    "executionInfo": {
     "elapsed": 1701,
     "status": "ok",
     "timestamp": 1735464677425,
     "user": {
      "displayName": "Theoneste NDAYISENGA",
      "userId": "00255849763261023763"
     },
     "user_tz": -120
    },
    "id": "a2e44d22",
    "outputId": "1dc724d9-b988-4b03-c9fd-86b0acd82d00"
   },
   "outputs": [
    {
     "name": "stdout",
     "output_type": "stream",
     "text": [
      "Impacts of deforestation:\n",
      "Loss of biodiversity, Climate change, Disruption of ecosystems\n"
     ]
    }
   ],
   "source": [
    "def deforestation_impact(*consequences):\n",
    "    \"\"\"\n",
    "    Describes the impacts of deforestation.\n",
    "\n",
    "    Parameters:\n",
    "    - *consequences: tuple, variable number of consequences\n",
    "    \"\"\"\n",
    "    print(\"Impacts of deforestation:\")\n",
    "    print(\", \".join(consequences))\n",
    "\n",
    "#Call the deforestation_impact function and pass it various deforestation consequences\n",
    "deforestation_impact(\"Loss of biodiversity\",\n",
    "                     \"Climate change\",\n",
    "                     \"Disruption of ecosystems\")"
   ]
  },
  {
   "cell_type": "markdown",
   "id": "f39f54f3",
   "metadata": {
    "id": "f39f54f3"
   },
   "source": [
    "This function has an `*args` parameter called `consequences` which allows the user to specify an unlimited number of consequences based on their requirements. It uses the `join` function to join the parameters into a string and then prints the result. The parameters are presented in the order in which they were entered as arguments by the user."
   ]
  },
  {
   "cell_type": "markdown",
   "id": "a7b1a94f",
   "metadata": {
    "id": "a7b1a94f"
   },
   "source": [
    "#### **kwargs: Keyword arguments\n",
    "\n",
    "`**kwargs` indicate that our function can accept any number of **keyword arguments** by placing `**` before the parameter name. The arguments will be wrapped in a dictionary with the key being the parameter name and the value being the parameter value.\n",
    "\n",
    "Suppose we want to create a function that collects detailed and varying characteristics of a forest. The user must be able to decide what information they would like to share using this function.\n",
    "\n",
    "We can create a function named `list_forest_details` that accepts any number of keyword arguments and uses a combination of the parameter name and value to output labelled information about the forest."
   ]
  },
  {
   "cell_type": "code",
   "execution_count": 2,
   "id": "2c324850",
   "metadata": {
    "colab": {
     "base_uri": "https://localhost:8080/"
    },
    "executionInfo": {
     "elapsed": 3,
     "status": "ok",
     "timestamp": 1735464678247,
     "user": {
      "displayName": "Theoneste NDAYISENGA",
      "userId": "00255849763261023763"
     },
     "user_tz": -120
    },
    "id": "2c324850",
    "outputId": "e574b878-9682-4cef-9f16-908e17db3b97"
   },
   "outputs": [
    {
     "name": "stdout",
     "output_type": "stream",
     "text": [
      "Forest details:\n",
      "location: Borneo\n",
      "cause: Illegal logging\n",
      "area: National Park\n"
     ]
    }
   ],
   "source": [
    "def list_forest_details(**details):\n",
    "    \"\"\"\n",
    "    Lists detailed information about a forest.\n",
    "\n",
    "    Parameters:\n",
    "    - **details: dict, variable number of keyword arguments\n",
    "    \"\"\"\n",
    "    print(\"Forest details:\")\n",
    "    #loop through the dictionary to extract and print the key and value\n",
    "    for key, value in details.items():\n",
    "        print(f\"{key}: {value}\")\n",
    "\n",
    "#Call the list_forest_details function and pass it various forest details\n",
    "list_forest_details(location=\"Borneo\", cause=\"Illegal logging\", area=\"National Park\")\n"
   ]
  },
  {
   "cell_type": "markdown",
   "id": "220be22f",
   "metadata": {
    "id": "220be22f"
   },
   "source": [
    "In this function, `**details` allows the function to accept any number of keyword arguments. It iterates through the dictionary and prints each key-value pair.\n",
    "\n",
    "Note: If our function were to make use of both `*args` and `**kwargs`, it is important to remember that we always place `*args` before `**kwargs` in the argument list."
   ]
  },
  {
   "cell_type": "markdown",
   "id": "ec69065b",
   "metadata": {
    "id": "ec69065b"
   },
   "source": [
    "## Multiple return values\n",
    "\n",
    "Python functions are very versatile and can be configured to meet the needs of the user. We just proved this through our exploration of the number of ways users can enter inputs into our functions. This remains true for function return values.\n",
    "\n",
    "Python functions can return function results in several ways. We can return a string, a number, a dictionary, a tuple, or even a table as a value.\n",
    "\n",
    "Python can also return multiple values.\n",
    "\n",
    "In some cases, a function needs to provide more than one piece of information back to the user. This can be accomplished by separating the values with a comma. The values returned can then be allocated to numerous variables. This can come in handy in a variety of scenarios.\n",
    "\n",
    "\n",
    "Let's create a function that calculates the impact of deforestation caused by carbon emissions.\n",
    "\n",
    "We want our function to compute the **percentage of tree cover loss** by subtracting the **initial forest area** from the **remaining forest area**.\n",
    "We also want it to estimate the **increase in CO2 emissions** by multiplying the **tree cover percentage**, the **remaining forest area**, and the **carbon emission factor**.\n"
   ]
  },
  {
   "cell_type": "code",
   "execution_count": null,
   "id": "e17c3603",
   "metadata": {
    "id": "e17c3603"
   },
   "outputs": [],
   "source": [
    "def calculate_deforestation_impact(initial_forest_area, remaining_forest_area, carbon_emission_factor=2.3):\n",
    "    \"\"\"\n",
    "    Calculates the impact of deforestation.\n",
    "\n",
    "    Parameters:\n",
    "    - initial_forest_area: float, initial forest area in square kilometres\n",
    "    - remaining_forest_area: float, remaining forest area in square kilometres\n",
    "    - carbon_emission_factor: float, factor representing CO2 emissions\n",
    "                            per unit of tree cover loss (default is 2.3)\n",
    "\n",
    "    Returns:\n",
    "    - tuple: (float, float, float), percentage of tree cover loss,\n",
    "            remaining forest area, and estimated increase in CO2 emissions\n",
    "    \"\"\"\n",
    "    # Calculate the percentage of tree cover loss\n",
    "    tree_cover_loss_percentage = ((initial_forest_area - remaining_forest_area) / initial_forest_area) * 100\n",
    "\n",
    "    # Calculate the estimated increase in CO2 emissions\n",
    "    estimated_emission = tree_cover_loss_percentage * carbon_emission_factor * initial_forest_area / 100\n",
    "\n",
    "    return tree_cover_loss_percentage, remaining_forest_area, estimated_emission"
   ]
  },
  {
   "cell_type": "code",
   "execution_count": null,
   "id": "06046ddc",
   "metadata": {
    "id": "06046ddc"
   },
   "outputs": [],
   "source": [
    "loss_percentage, remaining_area, co2_increase = calculate_deforestation_impact(1000, 800)"
   ]
  },
  {
   "cell_type": "markdown",
   "id": "22faa19e",
   "metadata": {
    "id": "22faa19e"
   },
   "source": [
    "The function returns a tuple containing the percentage of tree cover loss, the remaining forest area, and the estimated increase in CO2 emissions. To use these values, we unpack the tuple into separate variables (loss_percentage, remaining_area, and co2_increase) when calling the function.\n",
    "\n",
    "We can then use or view each variable separately."
   ]
  },
  {
   "cell_type": "code",
   "execution_count": null,
   "id": "c674a8c0",
   "metadata": {
    "id": "c674a8c0"
   },
   "outputs": [],
   "source": [
    "print(f\"Tree cover loss percentage: {loss_percentage}\")\n",
    "print(f\"Remaining forest area: {remaining_area} square kilometres\")\n",
    "print(f\"Estimated increase in CO2 emissions: {co2_increase} metric tons\")"
   ]
  },
  {
   "cell_type": "markdown",
   "id": "f63da8b8",
   "metadata": {
    "id": "f63da8b8"
   },
   "source": [
    "By exploring the above concepts, we have gained practical insights into how to create versatile and useful functions in Python."
   ]
  }
 ],
 "metadata": {
  "colab": {
   "provenance": [],
   "toc_visible": true
  },
  "kernelspec": {
   "display_name": "Python 3 (ipykernel)",
   "language": "python",
   "name": "python3"
  },
  "language_info": {
   "codemirror_mode": {
    "name": "ipython",
    "version": 3
   },
   "file_extension": ".py",
   "mimetype": "text/x-python",
   "name": "python",
   "nbconvert_exporter": "python",
   "pygments_lexer": "ipython3",
   "version": "3.10.12"
  },
  "widgets": {
   "application/vnd.jupyter.widget-state+json": {
    "state": {},
    "version_major": 2,
    "version_minor": 0
   }
  }
 },
 "nbformat": 4,
 "nbformat_minor": 5
}
