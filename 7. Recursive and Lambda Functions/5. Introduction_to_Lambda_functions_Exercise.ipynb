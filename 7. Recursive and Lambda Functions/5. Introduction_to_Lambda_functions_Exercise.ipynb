{
 "cells": [
  {
   "cell_type": "markdown",
   "id": "cd88ea27",
   "metadata": {},
   "source": [
    "<center>\n",
    "<img src=\"https://github.com/ddaeducation/Images/raw/main/lgo.png\" alt=\"Global Nexus Institute of Technology\" width=\"150\">\n",
    "</center><hr style=\"height: 5px; background-color: red; border: none;\">"
   ]
  },
  {
   "cell_type": "markdown",
   "id": "f662d169",
   "metadata": {},
   "source": [
    "# Exercise: Introduction to lambda functions"
   ]
  },
  {
   "cell_type": "markdown",
   "id": "26af890c",
   "metadata": {},
   "source": [
    "In this notebook, we demonstrate the principles and implementation of lambda functions in Python."
   ]
  },
  {
   "cell_type": "markdown",
   "id": "2d230d14",
   "metadata": {
    "tags": []
   },
   "source": [
    "## Learning objectives\n",
    "\n",
    "In this train, we will learn:\n",
    "- How to write lambda functions in Python.\n",
    "- How to use lambda functions in conjunction with built-in Python functions."
   ]
  },
  {
   "cell_type": "markdown",
   "id": "de45a481",
   "metadata": {},
   "source": [
    "## Exercises"
   ]
  },
  {
   "cell_type": "markdown",
   "id": "5e475089",
   "metadata": {},
   "source": [
    "### Exercise 1\n",
    "\n",
    "Given the function `root` which calculates the `y`th root of a number `x`, as shown below:"
   ]
  },
  {
   "cell_type": "code",
   "execution_count": null,
   "id": "7f5ee730",
   "metadata": {},
   "outputs": [],
   "source": [
    "def root(x,y):\n",
    "    return x**(1/y)"
   ]
  },
  {
   "cell_type": "markdown",
   "id": "21a65265",
   "metadata": {},
   "source": [
    "Create an equivalent lambda function and name it `y_root`."
   ]
  },
  {
   "cell_type": "code",
   "execution_count": null,
   "id": "e6349e08",
   "metadata": {},
   "outputs": [],
   "source": [
    "# insert code here"
   ]
  },
  {
   "cell_type": "markdown",
   "id": "6ec838e7",
   "metadata": {},
   "source": [
    "Expected output:\n",
    "\n",
    "```\n",
    "y_root(25,2) == 5.0\n",
    "y_root(8,3) == 2.0\n",
    "```"
   ]
  },
  {
   "cell_type": "markdown",
   "id": "cec9c3c9",
   "metadata": {},
   "source": [
    "### Exercise 2 \n",
    "\n",
    "Write a lambda function named `sort`. This function should take a single argument: a list of numbers. It should return a new list with the numbers sorted in ascending order. "
   ]
  },
  {
   "cell_type": "code",
   "execution_count": null,
   "id": "392bd134",
   "metadata": {},
   "outputs": [],
   "source": [
    "# insert code here"
   ]
  },
  {
   "cell_type": "markdown",
   "id": "e25fb263",
   "metadata": {},
   "source": [
    "Expected output:\n",
    "```\n",
    "sort([6,2,3,9,1,5]) == [1, 2, 3, 5, 6, 9]\n",
    "```"
   ]
  },
  {
   "cell_type": "markdown",
   "id": "ec33dcdd",
   "metadata": {},
   "source": [
    "### Exercise 3\n",
    "\n",
    "Write a lambda function named `filtered_list` that makes use of the `filter()` function to print a `list` of integers that are greater than 9.\n",
    "\n",
    "Use `list1` as the input for the function."
   ]
  },
  {
   "cell_type": "code",
   "execution_count": null,
   "id": "30b2b99c",
   "metadata": {},
   "outputs": [],
   "source": [
    "list1 = [2, 6, 8, 10, 11, 4, 12, 7, 13, 17, 0, 3, 21]\n",
    "\n",
    "# insert code here"
   ]
  },
  {
   "cell_type": "markdown",
   "id": "be2e6195",
   "metadata": {},
   "source": [
    "Expected output:\n",
    "\n",
    "```\n",
    "[10, 11, 12, 13, 17, 21]\n",
    "```\n"
   ]
  },
  {
   "cell_type": "markdown",
   "id": "0ae06c7c",
   "metadata": {},
   "source": [
    "### Exercise 4\n",
    "\n",
    "Write a lambda function named `mapped_list` that makes use of the `map()` function to output the remainder after dividing each number in `list2` by 2.\n",
    "\n",
    "Use `list2` as the input for the function. Print the results as a list."
   ]
  },
  {
   "cell_type": "code",
   "execution_count": null,
   "id": "98e0621b",
   "metadata": {},
   "outputs": [],
   "source": [
    "list2 = [2, 6, 8, 10, 11, 4, 12, 7, 13, 17, 0, 3, 21]\n",
    "\n",
    "# insert code here"
   ]
  },
  {
   "cell_type": "markdown",
   "id": "a45fe9d9",
   "metadata": {},
   "source": [
    "Expected output: \n",
    "\n",
    "```\n",
    "[0, 0, 0, 0, 1, 0, 0, 1, 1, 1, 0, 1, 1]\n",
    "```"
   ]
  },
  {
   "cell_type": "markdown",
   "id": "555dea0d",
   "metadata": {},
   "source": [
    "## Solutions"
   ]
  },
  {
   "cell_type": "markdown",
   "id": "9ff8f391",
   "metadata": {},
   "source": [
    "### Exercise 1\n",
    "\n",
    "This lambda function `y_root` takes two arguments, `x` and `y`, and computes the `y`th root of `x`. "
   ]
  },
  {
   "cell_type": "code",
   "execution_count": null,
   "id": "ad52ad95",
   "metadata": {},
   "outputs": [],
   "source": [
    "y_root = lambda x, y: x**(1/y)"
   ]
  },
  {
   "cell_type": "markdown",
   "id": "a10363b6",
   "metadata": {},
   "source": [
    "### Exercise 2\n",
    "\n",
    "To create a lambda function named `sort` that sorts a list of numbers in ascending order, we can use Python's built-in `sorted` function within the lambda.\n"
   ]
  },
  {
   "cell_type": "code",
   "execution_count": null,
   "id": "09386d51",
   "metadata": {},
   "outputs": [],
   "source": [
    "sort = lambda numbers: sorted(numbers)"
   ]
  },
  {
   "cell_type": "markdown",
   "id": "07816c08",
   "metadata": {},
   "source": [
    "### Exercise 3\n",
    "\n",
    "This code defines a lambda function inside the `filter()` function to filter elements greater than 9 from `list1`. It then converts the filtered result into a list and stores the result in `filtered_list`.\n"
   ]
  },
  {
   "cell_type": "code",
   "execution_count": null,
   "id": "96d2a22e",
   "metadata": {},
   "outputs": [],
   "source": [
    "list1 = [2, 6, 8, 10, 11, 4, 12, 7, 13, 17, 0, 3, 21]\n",
    "\n",
    "filtered_list = list(filter(lambda x: x > 9, list1))\n",
    "\n",
    "print(filtered_list)"
   ]
  },
  {
   "cell_type": "markdown",
   "id": "a82d0036",
   "metadata": {},
   "source": [
    "### Exercise 4\n",
    "\n",
    "Our lambda function takes an input `x` and calculates the remainder when `x` is divided by `2` (`x % 2`). We use the `map()` function to apply this lambda function to each element of `list2`. This results in a mapped object that contains the remainders for each element. To obtain the final result as a list, we convert the mapped object to a list using `list()` and print the results.\n"
   ]
  },
  {
   "cell_type": "code",
   "execution_count": null,
   "id": "62eae536",
   "metadata": {},
   "outputs": [],
   "source": [
    "list2 = [2, 6, 8, 10, 11, 4, 12, 7, 13, 17, 0, 3, 21]\n",
    "\n",
    "mapped_list = list(map(lambda x: x % 2, list2))\n",
    "\n",
    "print(mapped_list)"
   ]
  }
 ],
 "metadata": {
  "kernelspec": {
   "display_name": "Python 3 (ipykernel)",
   "language": "python",
   "name": "python3"
  },
  "language_info": {
   "codemirror_mode": {
    "name": "ipython",
    "version": 3
   },
   "file_extension": ".py",
   "mimetype": "text/x-python",
   "name": "python",
   "nbconvert_exporter": "python",
   "pygments_lexer": "ipython3",
   "version": "3.10.12"
  },
  "widgets": {
   "application/vnd.jupyter.widget-state+json": {
    "state": {},
    "version_major": 2,
    "version_minor": 0
   }
  }
 },
 "nbformat": 4,
 "nbformat_minor": 5
}
