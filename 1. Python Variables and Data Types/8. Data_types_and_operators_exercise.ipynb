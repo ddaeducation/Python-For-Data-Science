{
 "cells": [
  {
   "cell_type": "markdown",
   "id": "1b41f694-cc4f-4245-8dd3-dd2f5e1655e5",
   "metadata": {},
   "source": [
    "<center>\n",
    "<img src=\"https://github.com/ddaeducation/Images/raw/main/lgo.png\" alt=\"Global Nexus Institute of Technology\" width=\"150\">\n",
    "</center><hr style=\"height: 5px; background-color: red; border: none;\">"
   ]
  },
  {
   "cell_type": "markdown",
   "id": "f662d169",
   "metadata": {
    "id": "f662d169"
   },
   "source": [
    "# Exercise: Data types and operators\n"
   ]
  },
  {
   "cell_type": "markdown",
   "id": "26af890c",
   "metadata": {
    "id": "26af890c"
   },
   "source": [
    "In this exercise, we'll get comfortable with using the different data types we've been introduced to as well as using the correct data types and operators to solve problems.\n",
    "\n"
   ]
  },
  {
   "cell_type": "markdown",
   "id": "2d230d14",
   "metadata": {
    "id": "2d230d14",
    "tags": []
   },
   "source": [
    "## Learning objectives\n",
    "\n",
    "In this train, we will practise:\n",
    "- How to declare variables, perform basic arithmetic operations, and print results using Python.\n",
    "- String manipulation, type casting, and solving practical problems."
   ]
  },
  {
   "cell_type": "markdown",
   "id": "twbYkxRRdnNC",
   "metadata": {
    "id": "twbYkxRRdnNC"
   },
   "source": [
    "## Outline\n",
    "\n",
    "1. [Exercises](#exercises)\n",
    "    * [Exercise 1](#exercise-1)\n",
    "    * [Exercise 2](#exercise-2)\n",
    "    * [Exercise 3](#exercise-3)\n",
    "    * [Exercise 4](#exercise-4)\n",
    "    * [Comprehensive exercise](#comprehensive-exercise)\n",
    "2. [Solutions](#solutions)\n",
    "    * [Exercise 1](#exercise-1)\n",
    "    * [Exercise 2](#exercise-2)\n",
    "    * [Exercise 3](#exercise-3)\n",
    "    * [Exercise 4](#exercise-4)\n",
    "    * [Comprehensive exercise](#comprehensive-exercise)"
   ]
  },
  {
   "cell_type": "markdown",
   "id": "MVMVaCdBdnND",
   "metadata": {
    "id": "MVMVaCdBdnND"
   },
   "source": [
    "## Exercises"
   ]
  },
  {
   "cell_type": "markdown",
   "id": "5a0b7683",
   "metadata": {
    "id": "5a0b7683",
    "tags": []
   },
   "source": [
    "### Exercise 1\n",
    "\n",
    "Declare two variables, `num1` and `num2`, and assign them values of `15` and `7`, respectively. Calculate and store the result of their sum, difference, product, and division (as floating-point number), in separate variables. Print the newly created variables."
   ]
  },
  {
   "cell_type": "code",
   "execution_count": null,
   "id": "9nbyZYYCdnNE",
   "metadata": {
    "id": "9nbyZYYCdnNE"
   },
   "outputs": [],
   "source": [
    "# Your solution here..."
   ]
  },
  {
   "cell_type": "markdown",
   "id": "-fh7wM3bdnNE",
   "metadata": {
    "id": "-fh7wM3bdnNE"
   },
   "source": [
    "### Exercise 2\n",
    "\n",
    "Create two string variables, `first_name` and `last_name`, with your first and last names. Concatenate them to form a full name and assign it to a new variable `full_name`. Print the `full_name` in uppercase.\n"
   ]
  },
  {
   "cell_type": "code",
   "execution_count": null,
   "id": "GckgovXkdnNF",
   "metadata": {
    "id": "GckgovXkdnNF"
   },
   "outputs": [],
   "source": [
    "# Your solution here..."
   ]
  },
  {
   "cell_type": "markdown",
   "id": "RFWdM6n1dnNF",
   "metadata": {
    "id": "RFWdM6n1dnNF"
   },
   "source": [
    "### Exercise 3\n",
    "\n",
    "You have a variable `num_of_books` storing the number of books you have read this month, but it's currently in the form of a string. Create a new variable `books_read` by casting `num_of_books` to an integer. Then calculate the average number of books read per week, assuming there are four weeks in a month."
   ]
  },
  {
   "cell_type": "code",
   "execution_count": null,
   "id": "1hBBOho-dnNF",
   "metadata": {
    "id": "1hBBOho-dnNF"
   },
   "outputs": [],
   "source": [
    "# Your solution here...\n",
    "\n",
    "num_of_books = \"15\""
   ]
  },
  {
   "cell_type": "markdown",
   "id": "a23hcnrwdnNG",
   "metadata": {
    "id": "a23hcnrwdnNG"
   },
   "source": [
    "### Exercise 4\n",
    "\n",
    "We have been given the following information about a person:\n",
    "\n",
    "- Name: John Doe\n",
    "- Age: 25\n",
    "- Height: 1.75 metres\n",
    "- Weight: 68.5 kilograms\n",
    "\n",
    "Create variables of appropriate data types to store this information. Then calculate the Body Mass Index (BMI) using the formula:\n",
    "\n",
    "$BMI = \\frac{{\\text{{Weight}}}}{{\\text{{Height}}^2}}$\n",
    "\n",
    "Print the result."
   ]
  },
  {
   "cell_type": "code",
   "execution_count": null,
   "id": "BU-xitJwdnNG",
   "metadata": {
    "id": "BU-xitJwdnNG"
   },
   "outputs": [],
   "source": [
    "# Your solution here..."
   ]
  },
  {
   "cell_type": "markdown",
   "id": "1oM_75bPdnNG",
   "metadata": {
    "id": "1oM_75bPdnNG"
   },
   "source": [
    "### Comprehensive exercise\n",
    "\n",
    "You are tasked with creating a program to manage inventory for a store. The program should have the following features:\n",
    "\n",
    "1. Create variables to store the following information:\n",
    "   - Product name (string)\n",
    "   - Initial quantity in stock (integer)\n",
    "   - Price per unit (float)\n",
    "   - Discount percentage (float)\n",
    "\n",
    "2. Perform the following operations:\n",
    "   - Calculate the total value of the initial stock (quantity * price per unit).\n",
    "   - Apply the discount to the total value and calculate the discounted value of stock.\n",
    "   - Update the quantity in stock based on new stock received (assume a shipment of 30 units).\n",
    "\n",
    "3. Display the results:\n",
    "   - Print a summary message that includes the product name, initial quantity, price per unit, discount percentage, total value, discounted value, and the updated quantity in stock."
   ]
  },
  {
   "cell_type": "code",
   "execution_count": null,
   "id": "GM7-u8eudnNG",
   "metadata": {
    "id": "GM7-u8eudnNG"
   },
   "outputs": [],
   "source": [
    "# Given the variables\n",
    "product_name = \"Widget XYZ\"\n",
    "initial_quantity = 100\n",
    "price_per_unit = 12.50\n",
    "discount_percentage = 0.15\n",
    "\n",
    "# Your solution here..."
   ]
  },
  {
   "cell_type": "markdown",
   "id": "Qqb0HBVzdnNG",
   "metadata": {
    "id": "Qqb0HBVzdnNG"
   },
   "source": [
    "## Solutions"
   ]
  },
  {
   "cell_type": "markdown",
   "id": "1xoOKJWndnNG",
   "metadata": {
    "id": "1xoOKJWndnNG"
   },
   "source": [
    "### Exercise 1\n"
   ]
  },
  {
   "cell_type": "code",
   "execution_count": null,
   "id": "Z6pc4XiDdnNG",
   "metadata": {
    "id": "Z6pc4XiDdnNG"
   },
   "outputs": [],
   "source": [
    "num1 = 15\n",
    "num2 = 7\n",
    "\n",
    "# Perform operations\n",
    "sum_result = num1 + num2\n",
    "difference_result = num1 - num2\n",
    "product_result = num1 * num2\n",
    "division_result = float(num1) / num2\n",
    "\n",
    "# Print the variables\n",
    "print(\"Sum: \", sum_result)\n",
    "print(\"Difference: \", difference_result)\n",
    "print(\"Product: \", product_result)\n",
    "print(\"Division: \", division_result)"
   ]
  },
  {
   "cell_type": "markdown",
   "id": "bxp_qIbgdnNH",
   "metadata": {
    "id": "bxp_qIbgdnNH"
   },
   "source": [
    "### Exercise 2"
   ]
  },
  {
   "cell_type": "code",
   "execution_count": null,
   "id": "o_4T-7_-dnNH",
   "metadata": {
    "id": "o_4T-7_-dnNH"
   },
   "outputs": [],
   "source": [
    "# Variable creation\n",
    "first_name = \"Jane\"\n",
    "last_name = \"Doe\"\n",
    "\n",
    "# String manipulation and concatenation\n",
    "full_name = first_name + \" \" + last_name\n",
    "\n",
    "# Display result in uppercase\n",
    "print(\"Full name in uppercase:\", full_name.upper())"
   ]
  },
  {
   "cell_type": "markdown",
   "id": "yTCii0kqdnNH",
   "metadata": {
    "id": "yTCii0kqdnNH"
   },
   "source": [
    "### Exercise 3"
   ]
  },
  {
   "cell_type": "code",
   "execution_count": null,
   "id": "vtuQxkZxdnNH",
   "metadata": {
    "id": "vtuQxkZxdnNH"
   },
   "outputs": [],
   "source": [
    "num_of_books = \"15\"\n",
    "\n",
    "# Casting to integer\n",
    "books_read = int(num_of_books)\n",
    "\n",
    "# Calculate average books read per week\n",
    "weeks_in_month = 4\n",
    "average_books_per_week = books_read / weeks_in_month\n",
    "\n",
    "# Print result\n",
    "print(\"You have read an average of \" + str(average_books_per_week) + \" books per week.\")"
   ]
  },
  {
   "cell_type": "markdown",
   "id": "Xo20St-5dnNH",
   "metadata": {
    "id": "Xo20St-5dnNH"
   },
   "source": [
    "### Exercise 4"
   ]
  },
  {
   "cell_type": "code",
   "execution_count": null,
   "id": "z0YRy41adnNH",
   "metadata": {
    "id": "z0YRy41adnNH"
   },
   "outputs": [],
   "source": [
    "# Given information\n",
    "name = \"John Doe\"\n",
    "age = 25\n",
    "height = 1.75  # in metres\n",
    "weight = 68.5  # in kilograms\n",
    "\n",
    "# Calculate BMI\n",
    "bmi = weight / (height ** 2)\n",
    "\n",
    "# Print result\n",
    "print(str(name) + \"\\'s BMI is: \"+ str(bmi))"
   ]
  },
  {
   "cell_type": "markdown",
   "id": "Ei8fXtvbdnNH",
   "metadata": {
    "id": "Ei8fXtvbdnNH"
   },
   "source": [
    "### Comprehensive exercise\n",
    "\n",
    "This comprehensive exercise integrates the creation of variables with different data types, mathematical operations, and string manipulation. It simulates a real-world scenario of managing inventory for a store and requires us to apply various concepts in a practical context."
   ]
  },
  {
   "cell_type": "code",
   "execution_count": null,
   "id": "OKYLaoihdnNH",
   "metadata": {
    "id": "OKYLaoihdnNH"
   },
   "outputs": [],
   "source": [
    "# Given the variables\n",
    "product_name = \"Widget XYZ\"\n",
    "initial_quantity = 100\n",
    "price_per_unit = 12.50\n",
    "discount_percentage = 0.15\n",
    "\n",
    "# Calculate total value of initial stock\n",
    "total_value = initial_quantity * price_per_unit\n",
    "\n",
    "# Apply discount and calculate discounted price\n",
    "discounted_value = total_value - (total_value * discount_percentage)\n",
    "\n",
    "# Update quantity based on new shipment\n",
    "new_shipment = 30\n",
    "updated_quantity = initial_quantity + new_shipment\n",
    "\n",
    "# Display results\n",
    "print(\"Product name:\", product_name)\n",
    "print(\"Initial quantity:\", initial_quantity)\n",
    "print(\"Price per unit: $\", price_per_unit)\n",
    "print(\"Discount percentage:\", discount_percentage * 100, \"%\")\n",
    "\n",
    "print(\"\\n--- Results ---\")\n",
    "print(\"Total value of initial stock: $\", total_value)\n",
    "print(\"Discounted value: $\", discounted_value)\n",
    "print(\"Updated quantity in stock:\", updated_quantity)"
   ]
  }
 ],
 "metadata": {
  "colab": {
   "provenance": []
  },
  "kernelspec": {
   "display_name": "Python 3 (ipykernel)",
   "language": "python",
   "name": "python3"
  },
  "language_info": {
   "codemirror_mode": {
    "name": "ipython",
    "version": 3
   },
   "file_extension": ".py",
   "mimetype": "text/x-python",
   "name": "python",
   "nbconvert_exporter": "python",
   "pygments_lexer": "ipython3",
   "version": "3.10.12"
  },
  "widgets": {
   "application/vnd.jupyter.widget-state+json": {
    "state": {},
    "version_major": 2,
    "version_minor": 0
   }
  }
 },
 "nbformat": 4,
 "nbformat_minor": 5
}
