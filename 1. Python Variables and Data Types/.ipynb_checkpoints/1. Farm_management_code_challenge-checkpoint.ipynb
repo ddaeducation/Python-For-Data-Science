{
 "cells": [
  {
   "cell_type": "markdown",
   "id": "504eb128",
   "metadata": {
    "id": "504eb128"
   },
   "source": [
    "<center>\n",
    "<img src=\"https://github.com/ddaeducation/Images/raw/main/lgo.png\" alt=\"Global Nexus Institute of Technology\" width=\"150\">\n",
    "</center>\n",
    "<hr style=\"height: 5px; background-color: red; border: none;\">"
   ]
  },
  {
   "cell_type": "markdown",
   "id": "f662d169",
   "metadata": {
    "id": "f662d169"
   },
   "source": [
    "# Code challenge: Farm harvest management"
   ]
  },
  {
   "cell_type": "markdown",
   "id": "26af890c",
   "metadata": {
    "id": "26af890c"
   },
   "source": [
    "In this code challenge, we will assist a farmer in calculating the total harvest from two fields (wheat and potatoes) and the overall expenses and profits for this season.\n",
    "\n"
   ]
  },
  {
   "cell_type": "markdown",
   "id": "2d230d14",
   "metadata": {
    "id": "2d230d14",
    "tags": []
   },
   "source": [
    "## Learning objectives\n",
    "\n",
    "In this train, we will:\n",
    "- Understand how to perform basic arithmetic operations in a Jupyter notebook.\n",
    "- Know how to assign numerical values to variables.\n",
    "- Know how to use the print() function to display our results.\n"
   ]
  },
  {
   "cell_type": "markdown",
   "id": "308655d3",
   "metadata": {
    "id": "308655d3"
   },
   "source": [
    "## Instructions\n",
    "\n",
    "- **This code challenge does not count for marks.**\n",
    "- Do not add or remove cells in this notebook.\n",
    "- Answer the questions according to the specifications provided.\n",
    "- Use the given cell in each question to see if your function matches the expected outputs."
   ]
  },
  {
   "cell_type": "markdown",
   "id": "0ed83c8f",
   "metadata": {
    "id": "0ed83c8f"
   },
   "source": [
    "## Challenge 1\n",
    "Calculate the total harvest for the farmer."
   ]
  },
  {
   "cell_type": "code",
   "execution_count": null,
   "id": "026a04a4",
   "metadata": {
    "id": "026a04a4",
    "outputId": "bdf2cdf4-5940-4c8d-9800-20be235c5b62"
   },
   "outputs": [
    {
     "ename": "SyntaxError",
     "evalue": "invalid syntax (1283423689.py, line 4)",
     "output_type": "error",
     "traceback": [
      "\u001b[1;36m  Cell \u001b[1;32mIn[28], line 4\u001b[1;36m\u001b[0m\n\u001b[1;33m    total_kgs_harvest =    # add your code here\u001b[0m\n\u001b[1;37m                           ^\u001b[0m\n\u001b[1;31mSyntaxError\u001b[0m\u001b[1;31m:\u001b[0m invalid syntax\n"
     ]
    }
   ],
   "source": [
    "total_kgs_wheat_harvest = 2050\n",
    "total_kgs_potato_harvest = 3600\n",
    "\n",
    "total_kgs_harvest =    # add your code here\n",
    "print(\"Total harvest in kilograms:\", total_kgs_harvest)"
   ]
  },
  {
   "cell_type": "markdown",
   "id": "3b19ef81",
   "metadata": {
    "id": "3b19ef81"
   },
   "source": [
    "**Expected outputs:**\n",
    "```python\n",
    "Total harvest in kilograms: 5650\n",
    "```"
   ]
  },
  {
   "cell_type": "markdown",
   "id": "4cd83d58",
   "metadata": {
    "id": "4cd83d58"
   },
   "source": [
    "## Challenge 2\n",
    "Calculate the total expenses (in dollars) and print the result."
   ]
  },
  {
   "cell_type": "code",
   "execution_count": null,
   "id": "f59a916f",
   "metadata": {
    "id": "f59a916f",
    "outputId": "812e04c1-3e6e-4c3d-c29c-8301455d6612"
   },
   "outputs": [
    {
     "name": "stdout",
     "output_type": "stream",
     "text": [
      "3720\n"
     ]
    }
   ],
   "source": [
    "seed_expense = 650\n",
    "labour_expense = 3070\n",
    "\n",
    "total_expenses_dollars = # add your code here\n",
    "print() # add your code here"
   ]
  },
  {
   "cell_type": "markdown",
   "id": "a807176b",
   "metadata": {
    "id": "a807176b"
   },
   "source": [
    "**Expected outputs:**\n",
    "```python\n",
    "Total expenses in dollars: 3720\n",
    "```"
   ]
  },
  {
   "cell_type": "markdown",
   "id": "8f65973e",
   "metadata": {
    "id": "8f65973e"
   },
   "source": [
    "## Challenge 3\n",
    "Calculate the total revenue (in dollars) and print the result."
   ]
  },
  {
   "cell_type": "code",
   "execution_count": null,
   "id": "2f6f1641",
   "metadata": {
    "id": "2f6f1641"
   },
   "outputs": [],
   "source": [
    "price_per_kg_wheat = 2\n",
    "price_per_kg_potato = 1.4\n",
    "\n",
    "total_revenue_dollars = # add your code here\n",
    "print() # add your code here"
   ]
  },
  {
   "cell_type": "markdown",
   "id": "e16a7b96",
   "metadata": {
    "id": "e16a7b96"
   },
   "source": [
    "**Expected outputs:**\n",
    "```python\n",
    "Total revenue in dollars: 9140\n",
    "```"
   ]
  },
  {
   "cell_type": "markdown",
   "id": "16fb04d6",
   "metadata": {
    "id": "16fb04d6"
   },
   "source": [
    "## Challenge 4\n",
    "Calculate the total profit (in dollars) and print the result."
   ]
  },
  {
   "cell_type": "code",
   "execution_count": null,
   "id": "ed3a7768",
   "metadata": {
    "id": "ed3a7768"
   },
   "outputs": [],
   "source": [
    "total_profit_dollars = # add your code here\n",
    "print() # add your code here"
   ]
  },
  {
   "cell_type": "markdown",
   "id": "f167564d",
   "metadata": {
    "id": "f167564d"
   },
   "source": [
    "**Expected outputs:**\n",
    "```python\n",
    "Total profit in dollars: 5420\n",
    "```"
   ]
  },
  {
   "cell_type": "markdown",
   "id": "934a1326",
   "metadata": {
    "id": "934a1326"
   },
   "source": [
    "<center>\n",
    "<img src=\"https://github.com/ddaeducation/Images/raw/main/lgo.png\" alt=\"Global Nexus Institute of Technology\" width=\"120\">\n",
    "</center><hr style=\"height: 5px; background-color: red; border: none;\">"
   ]
  },
  {
   "cell_type": "code",
   "execution_count": null,
   "id": "eaec9ef1",
   "metadata": {
    "id": "eaec9ef1"
   },
   "outputs": [],
   "source": []
  }
 ],
 "metadata": {
  "colab": {
   "provenance": [],
   "toc_visible": true
  },
  "kernelspec": {
   "display_name": "Python 3 (ipykernel)",
   "language": "python",
   "name": "python3"
  },
  "language_info": {
   "codemirror_mode": {
    "name": "ipython",
    "version": 3
   },
   "file_extension": ".py",
   "mimetype": "text/x-python",
   "name": "python",
   "nbconvert_exporter": "python",
   "pygments_lexer": "ipython3",
   "version": "3.10.12"
  },
  "widgets": {
   "application/vnd.jupyter.widget-state+json": {
    "state": {},
    "version_major": 2,
    "version_minor": 0
   }
  }
 },
 "nbformat": 4,
 "nbformat_minor": 5
}
