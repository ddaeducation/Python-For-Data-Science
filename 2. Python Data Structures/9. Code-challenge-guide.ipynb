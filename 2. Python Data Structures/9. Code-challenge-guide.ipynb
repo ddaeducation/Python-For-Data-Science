{
 "cells": [
  {
   "cell_type": "markdown",
   "metadata": {},
   "source": [
    "<center>\n",
    "<img src=\"https://github.com/ddaeducation/Images/raw/main/lgo.png\" alt=\"Global Nexus Institute of Technology\" width=\"150\">\n",
    "</center><hr style=\"height: 5px; background-color: red; border: none;\">"
   ]
  },
  {
   "cell_type": "markdown",
   "metadata": {
    "id": "k3iztl7u3gwD"
   },
   "source": [
    "# Code challenge guide\n",
    "\n",
    "\n",
    "## Description\n",
    "\n",
    "This notebook is a quick guide to how code challenges work.\n",
    "\n",
    "\n",
    "\n"
   ]
  },
  {
   "cell_type": "markdown",
   "metadata": {
    "id": "rABsUEdHBR5k"
   },
   "source": [
    "## Python functions and data structures challenge\n",
    "\n",
    "In this challenge, you will use functions to submit your answer. Each function will use Python data structures to represent different aspects of a farm.\n",
    "\n",
    "Imagine a function as a small factory: you send in some raw materials (input), it processes them, and then sends out a finished product (output). In programming, a function works similarly. You give it some data (input), it does something with that data, and then gives back a result (output).\n",
    "\n",
    "The general format of a function in Python is as follows:"
   ]
  },
  {
   "cell_type": "code",
   "execution_count": null,
   "metadata": {
    "id": "VBOgeVSJBR5k"
   },
   "outputs": [],
   "source": [
    "def function_name(input):\n",
    "    # your code here\n",
    "    return result"
   ]
  },
  {
   "cell_type": "markdown",
   "metadata": {
    "id": "frBifGoCBR5l"
   },
   "source": [
    "- `def` tells Python that you are defining a function.\n",
    "\n",
    "- `function_name` is the name you give to your function.\n",
    "\n",
    "- `input` is the information you feed into the function. It's optional; some functions don't need input.\n",
    "\n",
    "- Inside the function, you write code that processes the input.\n",
    "\n",
    "- `return` is a keyword that tells Python what the function should output."
   ]
  },
  {
   "cell_type": "markdown",
   "metadata": {
    "id": "lod-aHZ7BR5m"
   },
   "source": [
    "### Example: Creating a simple function\n",
    "Let's consider a basic task: assigning the string `tractor` or `harvester` to a variable named `vehicle_type`. In Python, it looks like this:"
   ]
  },
  {
   "cell_type": "code",
   "execution_count": null,
   "metadata": {
    "id": "KUhA3_wiBR5m"
   },
   "outputs": [],
   "source": [
    "vehicle_type_str = \"tractor\""
   ]
  },
  {
   "cell_type": "markdown",
   "metadata": {
    "id": "xr2wWxr4BR5m"
   },
   "source": [
    "Now, let's turn this into a function in a code challenge.\n",
    "\n",
    "The basic structure of the function is always provided:"
   ]
  },
  {
   "cell_type": "code",
   "execution_count": null,
   "metadata": {
    "id": "hMSF0ixoBR5n"
   },
   "outputs": [],
   "source": [
    "### START FUNCTION\n",
    "def vehicle_type(input):\n",
    "    # your code here\n",
    "    return\n",
    "### END FUNCTION"
   ]
  },
  {
   "cell_type": "markdown",
   "metadata": {
    "id": "Odca2TK9BR5n"
   },
   "source": [
    "We add the required code:"
   ]
  },
  {
   "cell_type": "code",
   "execution_count": null,
   "metadata": {
    "id": "nlJsUeCcBR5n"
   },
   "outputs": [],
   "source": [
    "### START FUNCTION\n",
    "def vehicle_type(input):\n",
    "    vehicle_type = input\n",
    "    return vehicle_type\n",
    "### END FUNCTION"
   ]
  },
  {
   "cell_type": "markdown",
   "metadata": {
    "id": "hbuzhTrHBR5n"
   },
   "source": [
    "And we can \"call\" the function with the code below:"
   ]
  },
  {
   "cell_type": "code",
   "execution_count": null,
   "metadata": {
    "id": "FKTlCWOzBR5n"
   },
   "outputs": [],
   "source": [
    "vehicle_type(\"tractor\")"
   ]
  },
  {
   "cell_type": "markdown",
   "metadata": {
    "id": "lcti3it_BR5o"
   },
   "source": [
    "This returns the string `tractor`."
   ]
  },
  {
   "cell_type": "markdown",
   "metadata": {
    "id": "a0HKqUJVBR5o"
   },
   "source": [
    "- `input` is a variable name for any input into the function. Calling `vehicle_type(\"car\")` will return the string `car`.\n",
    "\n",
    "- The input is used in `()`.\n",
    "\n",
    "- Note that the code is indented after the `def vehicle_type(input):` line. We have to make sure the code is always indented to this level for the function to work.\n",
    "\n",
    "- The code after the `return` statement is what we want to output. In this case, we assign the variable `input` to `vehicle_type`, and `return` our output `vehicle_type`, which should return the string `\"tractor\"`.\n",
    "\n",
    "- Do not edit or remove the `### START FUNCTION` or `### END FUNCTION` lines!\n",
    "\n",
    "We are always provided with multiple function calls called **expected outputs**. These help us test whether our code works correctly."
   ]
  },
  {
   "cell_type": "markdown",
   "metadata": {
    "id": "NRN48OtjBR5o"
   },
   "source": [
    "**Expected outputs:**"
   ]
  },
  {
   "cell_type": "markdown",
   "metadata": {
    "id": "zcALcrYsBR5o"
   },
   "source": [
    "**Input 1:**\n",
    "<br>\n",
    "Expected output: `'tractor'`"
   ]
  },
  {
   "cell_type": "code",
   "execution_count": null,
   "metadata": {
    "id": "2vqatCY6BR5o"
   },
   "outputs": [],
   "source": [
    "# input 1: \"tractor\"\n",
    "vehicle_type(\"tractor\")"
   ]
  },
  {
   "cell_type": "markdown",
   "metadata": {
    "id": "pwhaxYO2BR5o"
   },
   "source": [
    "**Input 2:**\n",
    "<br>\n",
    "Expected output: `'car'`"
   ]
  },
  {
   "cell_type": "code",
   "execution_count": null,
   "metadata": {
    "id": "QnjArykcBR5o"
   },
   "outputs": [],
   "source": [
    "# input 2: \"car\"\n",
    "vehicle_type(\"car\")"
   ]
  },
  {
   "cell_type": "markdown",
   "metadata": {
    "id": "TgwWMRRXBR5o"
   },
   "source": [
    "There is always a *hidden input* we never see, to make sure we code the challenge and don't just fake an answer. In this case, the hidden input is `\"harvester\"`."
   ]
  },
  {
   "cell_type": "markdown",
   "metadata": {
    "id": "KKo0j8cZBR5p"
   },
   "source": [
    "**Hidden input:**\n",
    "<br>\n",
    "Expected output: `'harvester'`"
   ]
  },
  {
   "cell_type": "code",
   "execution_count": null,
   "metadata": {
    "id": "0pOObKg9BR5p"
   },
   "outputs": [],
   "source": [
    "# Hidden input: \"harvester\"\n",
    "vehicle_type(\"harvester\")"
   ]
  },
  {
   "cell_type": "markdown",
   "metadata": {
    "id": "KPOedhrJBR5p"
   },
   "source": [
    "Top tips for submitting your work:\n",
    "1. Download a copy of the notebook, and rename the notebook `Data_structures_code_challenge.ipynb` to `Data_structures_code_challenge_work.ipynb`. Use this notebook to complete the code challenge.\n",
    "\n",
    "2. Transfer your code into another copy of `Data_structures_code_challenge.ipynb` and submit this file as the answer.\n",
    "\n",
    "3. Make sure your code runs in the notebook you will be submitting."
   ]
  }
 ],
 "metadata": {
  "colab": {
   "provenance": []
  },
  "kernelspec": {
   "display_name": "Python 3 (ipykernel)",
   "language": "python",
   "name": "python3"
  },
  "language_info": {
   "codemirror_mode": {
    "name": "ipython",
    "version": 3
   },
   "file_extension": ".py",
   "mimetype": "text/x-python",
   "name": "python",
   "nbconvert_exporter": "python",
   "pygments_lexer": "ipython3",
   "version": "3.10.12"
  },
  "widgets": {
   "application/vnd.jupyter.widget-state+json": {
    "state": {},
    "version_major": 2,
    "version_minor": 0
   }
  }
 },
 "nbformat": 4,
 "nbformat_minor": 4
}
