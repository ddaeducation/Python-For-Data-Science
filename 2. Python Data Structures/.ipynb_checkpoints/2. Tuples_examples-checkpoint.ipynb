{
 "cells": [
  {
   "cell_type": "markdown",
   "id": "b2daf5b0-0ca4-4698-b423-847cffed83b6",
   "metadata": {},
   "source": [
    "<center>\n",
    "<img src=\"https://github.com/ddaeducation/Images/raw/main/lgo.png\" alt=\"Global Nexus Institute of Technology\" width=\"150\">\n",
    "</center><hr style=\"height: 5px; background-color: red; border: none;\">"
   ]
  },
  {
   "cell_type": "markdown",
   "id": "26af890c",
   "metadata": {
    "id": "26af890c"
   },
   "source": [
    "In this notebook, we will look at how to create tuples and some of the ways we can manipulate them."
   ]
  },
  {
   "cell_type": "markdown",
   "id": "f662d169",
   "metadata": {
    "id": "f662d169"
   },
   "source": [
    "# Examples: Tuples"
   ]
  },
  {
   "cell_type": "markdown",
   "id": "2d230d14",
   "metadata": {
    "id": "2d230d14",
    "tags": []
   },
   "source": [
    "## Learning objectives\n",
    "\n",
    "By the end of this train, you should be able to:\n",
    "- Know how to create a tuple and confirm its type.\n",
    "- Know how to use indexing to access elements and slice a tuple.\n",
    "- Understand some tuple characteristics such as immutability and duplicates.\n",
    "- Understand some operations that can be performed on tuples such as concatenation and unpacking."
   ]
  },
  {
   "cell_type": "markdown",
   "id": "e6d60bbf",
   "metadata": {
    "id": "e6d60bbf"
   },
   "source": [
    "## Examples"
   ]
  },
  {
   "cell_type": "markdown",
   "id": "bb83e75d",
   "metadata": {
    "id": "bb83e75d"
   },
   "source": [
    "### 1. Create a tuple\n",
    "\n",
    "A tuple is created by **assigning a group of comma-separated values** enclosed within **round brackets** to a variable."
   ]
  },
  {
   "cell_type": "code",
   "execution_count": 14,
   "id": "30f39494",
   "metadata": {
    "colab": {
     "base_uri": "https://localhost:8080/"
    },
    "executionInfo": {
     "elapsed": 96,
     "status": "ok",
     "timestamp": 1742065408010,
     "user": {
      "displayName": "Didier Ngamije",
      "userId": "06142663300075250743"
     },
     "user_tz": -120
    },
    "id": "30f39494",
    "outputId": "d904653e-49cc-42f8-a918-23e9e88ab421"
   },
   "outputs": [
    {
     "name": "stdout",
     "output_type": "stream",
     "text": [
      "('Yellow anaconda', 'Reptile', 30.5, 20, 'lion', 'cow', 12, 3)\n"
     ]
    }
   ],
   "source": [
    "# Create a tuple, defined within round brackets\n",
    "animal_tuple = (\"Yellow anaconda\", \"Reptile\", 30.5, 20)\n",
    "modified_animal_tuple = animal_tuple + (\"lion\", \"cow\", 12,3 , )\n",
    "print(modified_animal_tuple)\n"
   ]
  },
  {
   "cell_type": "markdown",
   "id": "e157b7d5",
   "metadata": {
    "id": "e157b7d5"
   },
   "source": [
    "**NOTE:** If elements are separated by a comma, but without the parentheses, it will still be treated as a tuple.\n",
    "\n",
    "We can also use the `tuple constructor` to create a tuple from other iterables, such as lists."
   ]
  },
  {
   "cell_type": "code",
   "execution_count": 12,
   "id": "9720fed2",
   "metadata": {
    "colab": {
     "base_uri": "https://localhost:8080/"
    },
    "executionInfo": {
     "elapsed": 18,
     "status": "ok",
     "timestamp": 1742065103738,
     "user": {
      "displayName": "Didier Ngamije",
      "userId": "06142663300075250743"
     },
     "user_tz": -120
    },
    "id": "9720fed2",
    "outputId": "694d61f3-44ed-48f9-bc4b-ef48f17ad3a1"
   },
   "outputs": [
    {
     "data": {
      "text/plain": [
       "['names', 'age', 12, 5, 34]"
      ]
     },
     "execution_count": 12,
     "metadata": {},
     "output_type": "execute_result"
    }
   ],
   "source": [
    "# Create a tuple from a list using the tuple constructor\n",
    "animal_tuple = tuple([\"Yellow anaconda\", \"Reptile\", 30.5, 20])\n",
    "\n",
    "listofobject= [ \"names\", \"age\", 12, 5, 34, 35 , 78]\n",
    "changingliskintotuple= tuple (list_obj)\n",
    "\n",
    "book = (\"go\", \"God\", 7,10,3)\n",
    "\n",
    "listofobject[0:5]\n",
    "\n",
    "\n",
    "\n",
    "\n",
    "\n",
    "\n",
    "\n"
   ]
  },
  {
   "cell_type": "markdown",
   "id": "a7155bfb",
   "metadata": {
    "id": "a7155bfb"
   },
   "source": [
    "### 2. Print a tuple\n",
    "\n",
    "To view the contents of a tuple, we can pass the tuple variable name to the `print()` function."
   ]
  },
  {
   "cell_type": "code",
   "execution_count": null,
   "id": "c2d9d541",
   "metadata": {
    "id": "c2d9d541"
   },
   "outputs": [],
   "source": [
    "# Print the contents of the variable animal_tuple\n",
    "print(animal_tuple)"
   ]
  },
  {
   "cell_type": "markdown",
   "id": "c872c671",
   "metadata": {
    "id": "c872c671"
   },
   "source": [
    "### 3. Tuple type\n",
    "\n",
    "To verify that our variable is a `tuple`, we can pass the variable name to the `type()` function."
   ]
  },
  {
   "cell_type": "code",
   "execution_count": null,
   "id": "29f9fad0",
   "metadata": {
    "id": "29f9fad0"
   },
   "outputs": [],
   "source": [
    "# Check the type of the variable animal_tuple\n",
    "type(animal_tuple)"
   ]
  },
  {
   "cell_type": "markdown",
   "id": "553015f8",
   "metadata": {
    "id": "553015f8"
   },
   "source": [
    "The output `tuple` confirms that we have created a tuple."
   ]
  },
  {
   "cell_type": "markdown",
   "id": "74fa7a08",
   "metadata": {
    "id": "74fa7a08"
   },
   "source": [
    "### 4. Indexing\n",
    "\n",
    "Since tuples are ordered, each element is assigned an index that corresponds to its position, starting with index `0`.\n",
    "\n",
    "Therefore, the index of an item is **equal to its position in the tuple, less one**. For example, **the 4th element will have the index `3`**."
   ]
  },
  {
   "cell_type": "markdown",
   "id": "6889b31d",
   "metadata": {
    "id": "6889b31d"
   },
   "source": [
    "We can use the `index()` method to return the index of a specified value."
   ]
  },
  {
   "cell_type": "code",
   "execution_count": null,
   "id": "aec1439f",
   "metadata": {
    "id": "aec1439f"
   },
   "outputs": [],
   "source": [
    "# Return the index of the \"Yellow anaconda\" element from animal_tuple\n",
    "first_index = animal_tuple.index(\"Yellow anaconda\")\n",
    "print(first_index)"
   ]
  },
  {
   "cell_type": "markdown",
   "id": "b65c5ea4",
   "metadata": {
    "id": "b65c5ea4"
   },
   "source": [
    "We can use the index notation to access a specific element using its index.\n",
    "\n",
    "> **Syntax:** `tuple[index]`\n",
    "\n",
    "For instance, if we want to access the **3rd element** in the tuple, we will **pass the index `2`** to the notation. The value at index `2` is returned."
   ]
  },
  {
   "cell_type": "code",
   "execution_count": null,
   "id": "9da39f24",
   "metadata": {
    "id": "9da39f24"
   },
   "outputs": [],
   "source": [
    "# Return the element at index 2 from animal_tuple\n",
    "third_item = animal_tuple[2]\n",
    "print(third_item)"
   ]
  },
  {
   "cell_type": "markdown",
   "id": "8f459e1c",
   "metadata": {
    "id": "8f459e1c"
   },
   "source": [
    "### 5. Slicing\n",
    "\n",
    "We use slicing when we wish to **return a portion of a tuple** instead of just a single value.\n",
    "\n",
    "> **Syntax:** `tuple[start:end]`\n",
    "\n",
    "- **start:** The index from which the slicing begins (included).\n",
    "- **stop:** The index at which the slicing ends (**not** included).\n",
    "\n",
    "For instance, if we want to slice from the 2nd to the 4th element, the start index will be `1` (to be included), and the stop index will be `4` (not to be included)."
   ]
  },
  {
   "cell_type": "code",
   "execution_count": 15,
   "id": "27648a32",
   "metadata": {
    "colab": {
     "base_uri": "https://localhost:8080/"
    },
    "executionInfo": {
     "elapsed": 67,
     "status": "ok",
     "timestamp": 1742065589524,
     "user": {
      "displayName": "Didier Ngamije",
      "userId": "06142663300075250743"
     },
     "user_tz": -120
    },
    "id": "27648a32",
    "outputId": "5ad8909e-1d32-4b28-aa6b-b07ef79b1c99"
   },
   "outputs": [
    {
     "name": "stdout",
     "output_type": "stream",
     "text": [
      "('Reptile', 30.5, 20)\n",
      "('eric', 'eric', ' bella', 'bella')\n"
     ]
    }
   ],
   "source": [
    "# Slice animal_tuple from index 1 to index 3\n",
    "sliced_tuple = animal_tuple[1:4]\n",
    "print(sliced_tuple)\n",
    "\n",
    "name= ( \"eric\", \"eric\",\" bella\", \"bella\")\n",
    "print(name)"
   ]
  },
  {
   "cell_type": "markdown",
   "id": "0c8f5db0",
   "metadata": {
    "id": "0c8f5db0"
   },
   "source": [
    "### 6. Modification\n",
    "\n",
    "Tuples are immutable, meaning we **cannot change, add, or remove** items from a tuple once it has been created. We would have to **create a new tuple** with the desired changes.\n",
    "\n",
    "Let’s see what happens when we attempt to modify a particular element in the tuple."
   ]
  },
  {
   "cell_type": "code",
   "execution_count": null,
   "id": "af21fd73",
   "metadata": {
    "id": "af21fd73"
   },
   "outputs": [],
   "source": [
    "# Change the element at index 0 from animal_tuple\n",
    "animal_tuple[0] = \"lion\""
   ]
  },
  {
   "cell_type": "markdown",
   "id": "976a9ad8",
   "metadata": {
    "id": "976a9ad8"
   },
   "source": [
    "This **raises an error**, showing that tuple elements cannot be modified."
   ]
  },
  {
   "cell_type": "markdown",
   "id": "0d003289",
   "metadata": {
    "id": "0d003289"
   },
   "source": [
    "### 7. Concatenation\n",
    "\n",
    "We can add elements to an existing tuple by appending another tuple to it.\n",
    "\n",
    "We use the `+` operator to perform the concatenation."
   ]
  },
  {
   "cell_type": "code",
   "execution_count": null,
   "id": "54f8ae82",
   "metadata": {
    "id": "54f8ae82"
   },
   "outputs": [],
   "source": [
    "# Append a new tuple at the end of animal_tuple\n",
    "animal_tuple_new = animal_tuple + (\"Swamp\", False)\n",
    "print(animal_tuple_new)"
   ]
  },
  {
   "cell_type": "markdown",
   "id": "82fe96f1",
   "metadata": {
    "id": "82fe96f1"
   },
   "source": [
    "### 8. Duplicates\n",
    "\n",
    "Since tuples are ordered, they **allow duplicates** as they can be differentiated by their index."
   ]
  },
  {
   "cell_type": "code",
   "execution_count": null,
   "id": "9d9b8b9a",
   "metadata": {
    "id": "9d9b8b9a"
   },
   "outputs": [],
   "source": [
    "# Append a duplicated value at the end of animal_tuple_new\n",
    "animal_tuple_new = animal_tuple_new + (False,)\n",
    "print(animal_tuple_new)"
   ]
  },
  {
   "cell_type": "markdown",
   "id": "ac401f47",
   "metadata": {
    "id": "ac401f47"
   },
   "source": [
    "**Note:** To create a tuple with a single item, we need to include a **trailing comma** after the item for it to be interpreted as a tuple as we've done above."
   ]
  },
  {
   "cell_type": "markdown",
   "id": "e2897b8a",
   "metadata": {
    "id": "e2897b8a"
   },
   "source": [
    "### 9. Other tuple methods\n",
    "\n",
    "There are some built-in methods we can use when working with tuples."
   ]
  },
  {
   "cell_type": "markdown",
   "id": "9e42975e",
   "metadata": {
    "id": "9e42975e"
   },
   "source": [
    "#### a) `len( )`\n",
    "\n",
    "We use the `len()` function to determine how many elements a tuple has."
   ]
  },
  {
   "cell_type": "code",
   "execution_count": null,
   "id": "b6ea02a9",
   "metadata": {
    "id": "b6ea02a9"
   },
   "outputs": [],
   "source": [
    "# Return the number of elements in animal_tuple_new\n",
    "length_of_tuple = len(animal_tuple_new)\n",
    "print(f\"No. of attributes: {length_of_tuple}\")"
   ]
  },
  {
   "cell_type": "markdown",
   "id": "8f031006",
   "metadata": {
    "id": "8f031006"
   },
   "source": [
    "#### b) `count()`\n",
    "\n",
    "We use `count()` to count the occurrences of a particular element."
   ]
  },
  {
   "cell_type": "code",
   "execution_count": null,
   "id": "78ee5fd5",
   "metadata": {
    "id": "78ee5fd5"
   },
   "outputs": [],
   "source": [
    "# Count the occurrence of the value False in animal_tuple_new\n",
    "count_false = animal_tuple_new.count(False)\n",
    "print(count_false)"
   ]
  },
  {
   "cell_type": "markdown",
   "id": "ddb8ae74",
   "metadata": {
    "id": "ddb8ae74"
   },
   "source": [
    "### 10. Tuple unpacking\n",
    "\n",
    "Tuple unpacking refers to the assignment of **tuple elements to individual variables** that can be used separately."
   ]
  },
  {
   "cell_type": "code",
   "execution_count": 25,
   "id": "6f3f3863",
   "metadata": {
    "colab": {
     "base_uri": "https://localhost:8080/"
    },
    "executionInfo": {
     "elapsed": 20,
     "status": "ok",
     "timestamp": 1742066179653,
     "user": {
      "displayName": "Didier Ngamije",
      "userId": "06142663300075250743"
     },
     "user_tz": -120
    },
    "id": "6f3f3863",
    "outputId": "c13b2f7e-b06b-43bf-b8ab-cd1248825c25"
   },
   "outputs": [
    {
     "name": "stdout",
     "output_type": "stream",
     "text": [
      "Name: eric\n",
      "Age: 30\n",
      "country: Kenya\n"
     ]
    }
   ],
   "source": [
    "# Assign each element in animal_tuple to individual variables\n",
    "frind = (\"eric\", \"Kenya\", 30)\n",
    "\n",
    "name, country, age = frind\n",
    "\n",
    "print(f\"Name: {name}\")\n",
    "print(f\"Age: {age}\")\n",
    "print(f\"country: {country}\")\n",
    "\n",
    "\n"
   ]
  },
  {
   "cell_type": "markdown",
   "id": "e9956efe",
   "metadata": {
    "id": "e9956efe",
    "tags": []
   },
   "source": [
    "## Summary\n",
    "\n",
    "We have looked at some ways of creating tuples and manipulating them. Take time to explore other methods and operations that can be performed on tuples."
   ]
  }
 ],
 "metadata": {
  "colab": {
   "provenance": []
  },
  "kernelspec": {
   "display_name": "Python 3 (ipykernel)",
   "language": "python",
   "name": "python3"
  },
  "language_info": {
   "codemirror_mode": {
    "name": "ipython",
    "version": 3
   },
   "file_extension": ".py",
   "mimetype": "text/x-python",
   "name": "python",
   "nbconvert_exporter": "python",
   "pygments_lexer": "ipython3",
   "version": "3.10.12"
  },
  "widgets": {
   "application/vnd.jupyter.widget-state+json": {
    "state": {},
    "version_major": 2,
    "version_minor": 0
   }
  }
 },
 "nbformat": 4,
 "nbformat_minor": 5
}
