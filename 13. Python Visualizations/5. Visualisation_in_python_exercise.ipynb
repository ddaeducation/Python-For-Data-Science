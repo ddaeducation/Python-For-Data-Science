{
 "cells": [
  {
   "cell_type": "markdown",
   "id": "f632bf25-449f-460b-a73e-2c18dabf59a9",
   "metadata": {},
   "source": [
    "<center>\n",
    "<img src=\"https://github.com/ddaeducation/Images/raw/main/lgo.png\" alt=\"Global Nexus Institute of Technology\" width=\"150\">\n",
    "</center><hr style=\"height: 5px; background-color: red; border: none;\">"
   ]
  },
  {
   "cell_type": "markdown",
   "id": "f662d169",
   "metadata": {
    "id": "f662d169"
   },
   "source": [
    "## Exercise: Visualisation in Python"
   ]
  },
  {
   "cell_type": "markdown",
   "id": "26af890c",
   "metadata": {
    "id": "26af890c"
   },
   "source": [
    "In this exercise, we will practise and reinforce all that we have learned about data visualisation in Python."
   ]
  },
  {
   "cell_type": "markdown",
   "id": "2d230d14",
   "metadata": {
    "id": "2d230d14",
    "tags": []
   },
   "source": [
    "## Learning objectives\n",
    "\n",
    "By the end of this exercise, you should be able to:\n",
    "* Navigate a Pandas DataFrame.\n",
    "* Slice, group, sort, and sum data in a DataFrame to create insightful visualisations.\n",
    "* Produce basic and advanced visualisations in Python.\n",
    "\n"
   ]
  },
  {
   "cell_type": "markdown",
   "id": "de45a481",
   "metadata": {
    "id": "de45a481"
   },
   "source": [
    "## Exercises"
   ]
  },
  {
   "cell_type": "markdown",
   "id": "a87f645e",
   "metadata": {
    "id": "a87f645e"
   },
   "source": [
    "We are the team managers of a soccer club and are keen on leveraging data to gain insights into the performance of our players. The dataset at our disposal contains valuable information about each player's skills, age, and overall rating. As managers, we have specific questions in mind that will help us make informed decisions and strategies for the upcoming season.\n",
    "\n",
    "Let's start by importing the libraries we're going to need and loading the dataset."
   ]
  },
  {
   "cell_type": "code",
   "execution_count": null,
   "id": "09e197cf",
   "metadata": {
    "id": "09e197cf"
   },
   "outputs": [],
   "source": [
    "import pandas as pd\n",
    "import numpy as np\n",
    "import matplotlib.pyplot as plt\n",
    "import seaborn as sns"
   ]
  },
  {
   "cell_type": "code",
   "execution_count": null,
   "id": "d8a39969",
   "metadata": {
    "id": "d8a39969"
   },
   "outputs": [],
   "source": [
    "soccer_df = pd.read_csv(\"https://raw.githubusercontent.com/Explore-AI/Public-Data/master/Data/fundamentals/football_players.csv\",low_memory=False)\n",
    "soccer_df"
   ]
  },
  {
   "cell_type": "markdown",
   "id": "cfafc3bf",
   "metadata": {
    "id": "cfafc3bf"
   },
   "source": [
    "Let's change the following columns to numerical values."
   ]
  },
  {
   "cell_type": "code",
   "execution_count": null,
   "id": "659da614",
   "metadata": {
    "id": "659da614"
   },
   "outputs": [],
   "source": [
    "cols = ['Age', 'Overall', 'Acceleration', 'Aggression',\n",
    "       'Agility', 'Balance', 'Ball control', 'Composure', 'Crossing', 'Curve',\n",
    "       'Dribbling', 'Finishing', 'Free kick accuracy', 'GK diving',\n",
    "       'GK handling', 'GK kicking', 'GK positioning', 'GK reflexes',\n",
    "       'Heading accuracy', 'Interceptions', 'Jumping', 'Long passing',\n",
    "       'Long shots', 'Marking', 'Penalties', 'Positioning', 'Reactions',\n",
    "       'Short passing', 'Shot power', 'Sliding tackle', 'Sprint speed',\n",
    "       'Stamina', 'Standing tackle', 'Strength', 'Vision', 'Volleys']\n",
    "\n",
    "soccer_df[cols] = soccer_df[cols].apply(pd.to_numeric, errors='coerce', axis=1)"
   ]
  },
  {
   "cell_type": "markdown",
   "id": "5a0b7683",
   "metadata": {
    "id": "5a0b7683",
    "tags": []
   },
   "source": [
    "### Exercise 1\n",
    "\n",
    "Now that we've loaded the dataset, we are curious about how players from different nationalities perform on average. We want to compare the overall ratings across the countries producing the highest number of players. We decide to create a bar graph to compare the average overall ratings of players, specifically for the top five nationalities, **based on the total number of players per country**. This insight will help us identify potential strengths within our team.\n",
    "\n",
    "Create a bar graph using `Matplotlib` to represent the average overall rating for players from the top five nationalities (**based on the number of players in each nationality**). Be sure to customise the graph as you see fit.\n"
   ]
  },
  {
   "cell_type": "code",
   "execution_count": null,
   "id": "c2ee76ec",
   "metadata": {
    "id": "c2ee76ec"
   },
   "outputs": [],
   "source": [
    "# insert code here"
   ]
  },
  {
   "cell_type": "markdown",
   "id": "dc9b7dc6",
   "metadata": {
    "id": "dc9b7dc6"
   },
   "source": [
    "### Exercise 2\n",
    "\n",
    "As we delve deeper into player analysis, we wonder about the age distribution of our team. A pie chart showcasing the percentage distribution of player ages will provide a clear picture. Understanding the age demographics helps us plan for the team's future and potential recruitment strategies. We have decided to categorise players into specific age groups, specifically `[15-19]`, `[20-24]`, `[25-29]`, `[30-34]`, and `[35+]`.\n",
    "\n",
    "Generate a pie chart to visualise the percentage distribution of player ages.\n",
    "\n",
    "**Hint**: `pd.cut` is a function in the Pandas library designed for binning or categorising continuous data into discrete intervals, also known as bins. This function is particularly useful when dealing with numerical data that we want to group into meaningful ranges. We can use `pd.cut` to help us create a more interpretable representation of player ages by categorising them into specific age groups.\n",
    "\n",
    "**Syntax**:\n",
    "\n",
    "`pd.cut(x, bins)`\n",
    "\n",
    "* `x`: The input array or Series that we want to bin.\n",
    "* `bins`: Defines the bin edges. It can be an integer specifying the number of equal-width bins or a sequence specifying the bin edges.\n",
    "\n",
    "Use bins of `[15, 20, 25, 30, 35]` to categorise players into specific age groups before plotting the pie chart.\n"
   ]
  },
  {
   "cell_type": "code",
   "execution_count": null,
   "id": "ae48fab0",
   "metadata": {
    "id": "ae48fab0"
   },
   "outputs": [],
   "source": [
    "# insert code here"
   ]
  },
  {
   "cell_type": "markdown",
   "id": "c9eda5c9",
   "metadata": {
    "id": "c9eda5c9"
   },
   "source": [
    "### Exercise 3\n",
    "\n",
    "To enhance our team's fitness and agility, we decide to explore how certain skills, like `Acceleration` and `Sprint speed`, vary across different age groups. A line graph depicting the trends will guide our training and conditioning strategies for players of different ages.\n",
    "\n",
    "Create a line graph using `Matplotlib` to show the trend of average `Acceleration` and `Sprint speed` across different age groups. Customise the graph appropriately.\n",
    "\n",
    "Assume that the age bins are defined as `[15, 20, 25, 30, 35]`."
   ]
  },
  {
   "cell_type": "code",
   "execution_count": null,
   "id": "b914d003",
   "metadata": {
    "id": "b914d003"
   },
   "outputs": [],
   "source": [
    "# insert code here"
   ]
  },
  {
   "cell_type": "markdown",
   "id": "0ad4e908",
   "metadata": {
    "id": "0ad4e908"
   },
   "source": [
    "### Exercise 4\n",
    "\n",
    "Focused on excellence, we narrow our analysis to players from the top three nationalities based on the highest average `Overall` rating. Slicing the dataset, we create a box plot to compare skill distributions, providing a detailed profile of the top-performing players.\n",
    "\n",
    "Slice the dataset to only include players from the **top three nationalities** with the highest average `Overall` rating. Then, create a box plot using Seaborn to compare the distribution of specific skills, including `Dribbling`, `Short passing`, `Shot power`, and `Ball control` for players from these nations."
   ]
  },
  {
   "cell_type": "code",
   "execution_count": null,
   "id": "3a670161",
   "metadata": {
    "id": "3a670161"
   },
   "outputs": [],
   "source": [
    "# insert code here"
   ]
  },
  {
   "cell_type": "markdown",
   "id": "6bef84de",
   "metadata": {
    "id": "6bef84de"
   },
   "source": [
    "### Exercise 5\n",
    "\n",
    "Embracing modern tools, we want to utilise Plotly to create an interactive visualisation. This dynamic plot will empower us to explore the intricate relationships between our categories. We also want to include hover information to add an extra layer of insight for more informed decision-making.\n",
    "\n",
    "Implement an interactive visualisation using Plotly to allow users to explore the relationship between `Strength`, `Vision`, and the `Overall` rating using the **hover information** feature to allow the user to have an interactive view of the data.\n",
    "\n",
    "Arrange the plot as follows:\n",
    "\n",
    "* Place `Strength` on the x-axis.\n",
    "* Place `Vision` on the y-axis.\n",
    "* Colour-code the points to represent the `Overall` rating.\n",
    "* Include a hover that has the name of the player as well as the  `Strength`, `Vision`, and `Overall` ratings for each player."
   ]
  },
  {
   "cell_type": "code",
   "execution_count": null,
   "id": "b874d2c8",
   "metadata": {
    "id": "b874d2c8"
   },
   "outputs": [],
   "source": [
    "# insert code here"
   ]
  },
  {
   "cell_type": "markdown",
   "id": "555dea0d",
   "metadata": {
    "id": "555dea0d"
   },
   "source": [
    "## Solutions"
   ]
  },
  {
   "cell_type": "markdown",
   "id": "9ff8f391",
   "metadata": {
    "id": "9ff8f391"
   },
   "source": [
    "### Exercise 1"
   ]
  },
  {
   "cell_type": "code",
   "execution_count": null,
   "id": "ad52ad95",
   "metadata": {
    "id": "ad52ad95"
   },
   "outputs": [],
   "source": [
    "# Identify the top five nationalities based on the player count\n",
    "top_nationalities = soccer_df['Nationality'].value_counts().head(5).index\n",
    "\n",
    "# Filter the dataset for players from the top five nationalities\n",
    "top_players_df = soccer_df[soccer_df['Nationality'].isin(top_nationalities)]\n",
    "\n",
    "# Calculate the average overall rating for each nationality\n",
    "avg_ratings = top_players_df.groupby('Nationality')['Overall'].mean()\n",
    "\n",
    "# Plotting the bar graph\n",
    "plt.figure(figsize=(10, 6))\n",
    "avg_ratings.sort_values().plot(kind='barh', color='skyblue')\n",
    "plt.title('Average Overall Rating for Top 5 Nationalities')\n",
    "plt.xlabel('Average Overall Rating')\n",
    "plt.ylabel('Nationality')\n",
    "plt.show()"
   ]
  },
  {
   "cell_type": "markdown",
   "id": "1fbdb88a",
   "metadata": {
    "id": "1fbdb88a"
   },
   "source": [
    "As we can see, Spain has the highest overall rating among the top five nationalities, while England has the lowest."
   ]
  },
  {
   "cell_type": "markdown",
   "id": "a10363b6",
   "metadata": {
    "id": "a10363b6"
   },
   "source": [
    "### Exercise 2\n"
   ]
  },
  {
   "cell_type": "code",
   "execution_count": null,
   "id": "09386d51",
   "metadata": {
    "id": "09386d51"
   },
   "outputs": [],
   "source": [
    "# Bin ages into groups\n",
    "age_bins = [15, 20, 25, 30, 35]\n",
    "soccer_df['Age Group'] = pd.cut(soccer_df['Age'], bins=age_bins)\n",
    "\n",
    "# Plotting the pie chart for age distribution\n",
    "plt.figure(figsize=(10, 10))\n",
    "soccer_df['Age Group'].value_counts().plot(kind='pie', autopct='%1.1f%%', startangle=90)\n",
    "\n",
    "plt.title('Percentage Distribution of Player Age Groups')\n",
    "plt.ylabel('')  # Remove the default 'Age Group' label on the y-axis\n",
    "plt.show()"
   ]
  },
  {
   "cell_type": "markdown",
   "id": "ff325262",
   "metadata": {
    "id": "ff325262"
   },
   "source": [
    "As we can see, the 20 to 25 age group accounts for approximately 39% of our players, followed by the 25 to 30 age group at approximately 30% of our player population."
   ]
  },
  {
   "cell_type": "markdown",
   "id": "9b04f54f",
   "metadata": {
    "id": "9b04f54f"
   },
   "source": [
    "### Exercise 3"
   ]
  },
  {
   "cell_type": "code",
   "execution_count": null,
   "id": "d4b3b8c5",
   "metadata": {
    "id": "d4b3b8c5"
   },
   "outputs": [],
   "source": [
    "# Grouping by age group and calculating average Acceleration and Sprint Speed\n",
    "age_group_stats = soccer_df.groupby('Age Group')[['Acceleration', 'Sprint speed']].mean()\n",
    "\n",
    "# Plotting the line graph\n",
    "plt.figure(figsize=(10, 6))\n",
    "age_group_stats.plot(kind='line', marker='o')\n",
    "plt.title('Average Acceleration and Sprint Speed Across Age Groups')\n",
    "plt.xlabel('Age Group')\n",
    "plt.ylabel('Average Value')\n",
    "plt.show()"
   ]
  },
  {
   "cell_type": "markdown",
   "id": "c98e4a2c",
   "metadata": {
    "id": "c98e4a2c"
   },
   "source": [
    "This figure shows that players improve in both Acceleration and Speed from the age of 15 to the age of 30, however, these values appear to decrease as players age beyond the age of 30."
   ]
  },
  {
   "cell_type": "markdown",
   "id": "f5d22631",
   "metadata": {
    "id": "f5d22631"
   },
   "source": [
    "### Exercise 4"
   ]
  },
  {
   "cell_type": "code",
   "execution_count": null,
   "id": "b1f18e7f",
   "metadata": {
    "id": "b1f18e7f"
   },
   "outputs": [],
   "source": [
    "# Find the top three nationalities with the highest average Overall rating\n",
    "top_nationalities = soccer_df.groupby('Nationality')['Overall'].mean().nlargest(3).index\n",
    "\n",
    "# Slice the dataset for players from the top three nationalities\n",
    "top_players_df = soccer_df[soccer_df['Nationality'].isin(top_nationalities)]\n",
    "\n",
    "# Define the specific skills for comparison\n",
    "skills_to_compare = ['Dribbling','Short passing','Shot power', 'Ball control']\n",
    "\n",
    "# Create the box plot\n",
    "plt.figure(figsize=(12, 8))\n",
    "sns.boxplot(x='Nationality', y='value', hue='variable', data=pd.melt(top_players_df, id_vars=['Nationality'], value_vars=skills_to_compare))\n",
    "plt.title('Distribution of Skills for Top 3 Nationalities')\n",
    "plt.xlabel('Nationality')\n",
    "plt.ylabel('Skill Value')\n",
    "plt.show()"
   ]
  },
  {
   "cell_type": "markdown",
   "id": "18a568b7",
   "metadata": {
    "id": "18a568b7"
   },
   "source": [
    "The resulting plot is a box plot with distinct boxes for each selected skill (i.e. `Dribbling`, `Short passing`, ` Shot power`, `Ball control`) for players from `Syria`, `Cuba`, and `Oman`. The boxes illustrate the interquartile range (IQR) and median, while the whiskers depict the range of values. Outliers can also be seen, giving insights into the variation of these skills among players from different nationalities. Overall, the plot aids in understanding the comparative skill distribution and potential areas for improvement or emphasis in training for players from the identified top-performing nationalities.\n",
    "\n",
    "Interestingly, although `Oman` is one of the top three countries based on overall rating, the values for our chosen categories are so low that they are barely visible on the plot. Could this imply that there are additional factors that determine if a nationality has the highest overall rating?"
   ]
  },
  {
   "cell_type": "markdown",
   "id": "5675480f",
   "metadata": {
    "id": "5675480f"
   },
   "source": [
    "### Exercise 5"
   ]
  },
  {
   "cell_type": "code",
   "execution_count": null,
   "id": "16a6582f",
   "metadata": {
    "id": "16a6582f"
   },
   "outputs": [],
   "source": [
    "import plotly.express as px\n",
    "\n",
    "# Scatter plot using Plotly\n",
    "fig = px.scatter(soccer_df, x='Strength', y='Vision', color='Overall', hover_name='Name',\n",
    "                 title='Interactive Scatter Plot of Strength and Vision vs Overall Rating',\n",
    "                 labels={'Strength': 'Strength Rating', 'Vision': 'Vision Rating', 'Overall': 'Overall Rating'})\n",
    "\n",
    "# Show the interactive plot\n",
    "fig.show()"
   ]
  },
  {
   "cell_type": "markdown",
   "id": "4ec3f49b",
   "metadata": {
    "id": "4ec3f49b"
   },
   "source": [
    "The resulting scatter plot provides an interactive visual representation of the relationship between `Strength` and `Vision` ratings concerning the `Overall` rating for each player, seen when we hover over each point on our plot. We are also able to interactively zoom in and out of the data points in the graph.\n",
    "\n",
    "Analyse the plot to identify patterns or clusters, and consider how these two attributes relate to the overall performance of the players."
   ]
  },
  {
   "cell_type": "markdown",
   "id": "1c08d272",
   "metadata": {
    "id": "1c08d272"
   },
   "source": [
    "# Summary\n",
    "\n",
    "This exercise underscores the symbiotic relationship between data preparation and visualisation. Mastery of both facets empowers us to unleash the full potential of Python's visualisation libraries, creating impactful visuals that tell compelling data stories.\n",
    "\n",
    "As we continue our data science journey, remember that proficiency in data preparation and visualisation techniques is a cornerstone for extracting actionable insights and making informed decisions. Keep honing these skills, explore diverse datasets, and embrace the creative possibilities that effective data visualisation affords."
   ]
  }
 ],
 "metadata": {
  "colab": {
   "provenance": [],
   "toc_visible": true
  },
  "kernelspec": {
   "display_name": "Python 3 (ipykernel)",
   "language": "python",
   "name": "python3"
  },
  "language_info": {
   "codemirror_mode": {
    "name": "ipython",
    "version": 3
   },
   "file_extension": ".py",
   "mimetype": "text/x-python",
   "name": "python",
   "nbconvert_exporter": "python",
   "pygments_lexer": "ipython3",
   "version": "3.10.12"
  },
  "widgets": {
   "application/vnd.jupyter.widget-state+json": {
    "state": {},
    "version_major": 2,
    "version_minor": 0
   }
  }
 },
 "nbformat": 4,
 "nbformat_minor": 5
}
